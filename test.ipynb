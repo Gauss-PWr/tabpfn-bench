{
 "cells": [
  {
   "cell_type": "code",
   "execution_count": 1,
   "id": "239db32a",
   "metadata": {},
   "outputs": [
    {
     "data": {
      "text/plain": [
       "0.95"
      ]
     },
     "execution_count": 1,
     "metadata": {},
     "output_type": "execute_result"
    }
   ],
   "source": [
    "from tabpfn import TabPFNClassifier\n",
    "from sklearn.datasets import fetch_openml\n",
    "\n",
    "from sklearn.model_selection import train_test_split\n",
    "from sklearn.metrics import accuracy_score\n",
    "import numpy as np\n",
    "import pandas as pd\n",
    "import os\n",
    "import warnings\n",
    "\n",
    "# Suppress warnings\n",
    "warnings.filterwarnings(\"ignore\")\n",
    "\n",
    "# Load the dataset\n",
    "dataset = fetch_openml(\"creditcard\", version=1, as_frame=True)\n",
    "X = dataset.data\n",
    "y = dataset.target\n",
    "\n",
    "# Convert the target variable to binary\n",
    "y = np.where(y == \"1\", 1, 0)\n",
    "# Split the dataset into training and testing sets\n",
    "\n",
    "# Sample 100 records from the dataset for faster processing\n",
    "sample_size = 100\n",
    "indices = np.random.RandomState(42).choice(len(X), sample_size, replace=False)\n",
    "X = X.iloc[indices]\n",
    "y = y[indices]\n",
    "\n",
    "X_train, X_test, y_train, y_test = train_test_split(\n",
    "    X, y, test_size=0.2, random_state=42\n",
    ")\n",
    "# Initialize the TabPFNClassifier\n",
    "model = TabPFNClassifier()\n",
    "\n",
    "# Fit the model\n",
    "model.fit(X_train, y_train)\n",
    "# Make predictions\n",
    "y_pred = model.predict(X_test)\n",
    "# Calculate accuracy\n",
    "accuracy = accuracy_score(y_test, y_pred)\n",
    "accuracy"
   ]
  },
  {
   "cell_type": "code",
   "execution_count": 2,
   "id": "837abe5f",
   "metadata": {},
   "outputs": [
    {
     "name": "stdout",
     "output_type": "stream",
     "text": [
      "  1%|          | 1/100 [00:21<35:35, 21.57s/trial, best loss: 0.0]\n",
      "Best parameters: {'average_before_softmax': True, 'fit_mode': 'low_memory', 'memory_saving_mode': 'auto', 'n_estimators': 32, 'n_jobs': -1, 'random_state': 22, 'softmax_temperature': 0.8990300702670624}\n"
     ]
    },
    {
     "data": {
      "text/plain": [
       "0.95"
      ]
     },
     "execution_count": 2,
     "metadata": {},
     "output_type": "execute_result"
    }
   ],
   "source": [
    "from tools.hyperparameter_tuning import get_model_params\n",
    "\n",
    "model_params = get_model_params(\n",
    "    model,\n",
    "    X_train,\n",
    "    y_train,\n",
    "    tune=True,\n",
    "    tune_metric=\"f1\",\n",
    "    max_time=15,\n",
    "    use_tensor=True,\n",
    ")\n",
    "model = TabPFNClassifier(**model_params)\n",
    "# Fit the model\n",
    "model.fit(X_train, y_train)\n",
    "# Make predictions\n",
    "y_pred = model.predict(X_test)\n",
    "# Calculate accuracy\n",
    "accuracy = accuracy_score(y_test, y_pred)\n",
    "accuracy"
   ]
  },
  {
   "cell_type": "code",
   "execution_count": null,
   "id": "352711ec",
   "metadata": {},
   "outputs": [],
   "source": []
  }
 ],
 "metadata": {
  "kernelspec": {
   "display_name": "venv",
   "language": "python",
   "name": "python3"
  },
  "language_info": {
   "codemirror_mode": {
    "name": "ipython",
    "version": 3
   },
   "file_extension": ".py",
   "mimetype": "text/x-python",
   "name": "python",
   "nbconvert_exporter": "python",
   "pygments_lexer": "ipython3",
   "version": "3.11.7"
  }
 },
 "nbformat": 4,
 "nbformat_minor": 5
}
