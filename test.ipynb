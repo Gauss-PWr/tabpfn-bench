{
 "cells": [
  {
   "cell_type": "code",
   "execution_count": 1,
   "id": "239db32a",
   "metadata": {},
   "outputs": [
    {
     "data": {
      "text/plain": [
       "0.95"
      ]
     },
     "execution_count": 1,
     "metadata": {},
     "output_type": "execute_result"
    }
   ],
   "source": [
    "from tabpfn import TabPFNClassifier\n",
    "from sklearn.datasets import fetch_openml\n",
    "\n",
    "from sklearn.model_selection import train_test_split\n",
    "from sklearn.metrics import accuracy_score\n",
    "import numpy as np\n",
    "import pandas as pd\n",
    "import warnings\n",
    "\n",
    "warnings.filterwarnings(\"ignore\")\n",
    "\n",
    "dataset = fetch_openml(\"creditcard\", version=1, as_frame=True)\n",
    "X = dataset.data\n",
    "y = dataset.target\n",
    "\n",
    "y = np.where(y == \"1\", 1, 0)\n",
    "\n",
    "sample_size = 100\n",
    "indices = np.random.RandomState(42).choice(len(X), sample_size, replace=False)\n",
    "X = X.iloc[indices]\n",
    "y = y[indices]\n",
    "\n",
    "X_train, X_test, y_train, y_test = train_test_split(\n",
    "    X, y, test_size=0.2, random_state=42\n",
    ")\n",
    "model = TabPFNClassifier()\n",
    "\n",
    "model.fit(X_train, y_train)\n",
    "y_pred = model.predict(X_test)\n",
    "accuracy = accuracy_score(y_test, y_pred)\n",
    "accuracy"
   ]
  },
  {
   "cell_type": "code",
   "execution_count": 3,
   "id": "837abe5f",
   "metadata": {},
   "outputs": [
    {
     "name": "stdout",
     "output_type": "stream",
     "text": [
      "  0%|          | 0/100 [00:00<?, ?trial/s, best loss=?]"
     ]
    },
    {
     "name": "stdout",
     "output_type": "stream",
     "text": [
      "  3%|▎         | 3/100 [01:04<34:55, 21.61s/trial, best loss: 0.0]\n",
      "Best parameters: {'average_before_softmax': True, 'fit_mode': 'fit_with_cache', 'memory_saving_mode': 'auto', 'n_estimators': 4, 'n_jobs': 4, 'random_state': 62, 'softmax_temperature': 0.8833891586018423}\n"
     ]
    },
    {
     "data": {
      "text/plain": [
       "0.95"
      ]
     },
     "execution_count": 3,
     "metadata": {},
     "output_type": "execute_result"
    }
   ],
   "source": [
    "from tools.hyperparameter_tuning import get_model_params\n",
    "\n",
    "model_params = get_model_params(\n",
    "    model,\n",
    "    X_train,\n",
    "    y_train,\n",
    "    tune=True,\n",
    "    tune_metric=\"f1\",\n",
    "    max_time=60,\n",
    "    use_tensor=True,\n",
    ")\n",
    "model = TabPFNClassifier(**model_params)\n",
    "model.fit(X_train, y_train)\n",
    "y_pred = model.predict(X_test)\n",
    "accuracy = accuracy_score(y_test, y_pred)\n",
    "accuracy"
   ]
  },
  {
   "cell_type": "code",
   "execution_count": null,
   "id": "352711ec",
   "metadata": {},
   "outputs": [],
   "source": []
  }
 ],
 "metadata": {
  "kernelspec": {
   "display_name": "venv",
   "language": "python",
   "name": "python3"
  },
  "language_info": {
   "codemirror_mode": {
    "name": "ipython",
    "version": 3
   },
   "file_extension": ".py",
   "mimetype": "text/x-python",
   "name": "python",
   "nbconvert_exporter": "python",
   "pygments_lexer": "ipython3",
   "version": "3.11.7"
  }
 },
 "nbformat": 4,
 "nbformat_minor": 5
}
