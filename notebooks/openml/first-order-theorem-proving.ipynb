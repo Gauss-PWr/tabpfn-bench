{
  "cells": [
    {
      "cell_type": "markdown",
      "metadata": {},
      "source": [
        "# OpenML dataset: **_first-order-theorem-proving_**",
        "## **Description**",
        "**Author**: James P Bridge, Sean B Holden and Lawrence C Paulson\n**Source**: [UCI](https://archive.ics.uci.edu/ml/datasets/First-order+theorem+proving)\n**Please cite**: James P Bridge, Sean B Holden and Lawrence C Paulson . Machine learning for first-order theorem proving: learning to select a good heuristic. Journal of Automated Reasoning, Springer 2012/13.\n\nSource:\n\nJames P Bridge, Sean B Holden and Lawrence C Paulson\n\nUniversity of Cambridge\n\nComputer Laboratory\n\nWilliam Gates Building\n\n15 JJ Thomson Avenue\n\nCambridge CB3 0FD\n### Uk\n+44 (0)1223 763500\n\nforename.surname '@' cl.cam.ac.uk\n\nData Set Information:\n\nSee the file dataset file.\n\nAttribute Information:\n\nThe attributes are a mixture of static and dynamic features derived from theorems to be proved. See the paper for full details."
      ]
    },
    {
      "cell_type": "code",
      "execution_count": null,
      "metadata": {},
      "outputs": [],
      "source": [
        "import openml\n\n",
        "dataset = openml.datasets.get_dataset(1475)\n",
        "X, y, _, _ = dataset.get_data(target=dataset.default_target_attribute, dataset_format='dataframe')"
      ]
    },
    {
      "cell_type": "code",
      "execution_count": null,
      "metadata": {},
      "outputs": [],
      "source": [
        "X.head()"
      ]
    },
    {
      "cell_type": "code",
      "execution_count": null,
      "metadata": {},
      "outputs": [],
      "source": [
        "y.head()"
      ]
    }
  ],
  "metadata": {
    "kernelspec": {
      "display_name": "Python 3",
      "language": "python",
      "name": "python3"
    },
    "language_info": {
      "codemirror_mode": {
        "name": "ipython",
        "version": 3
      },
      "file_extension": ".py",
      "mimetype": "text/x-python",
      "name": "python",
      "nbconvert_exporter": "python",
      "pygments_lexer": "ipython3",
      "version": "3.8.5"
    }
  },
  "nbformat": 4,
  "nbformat_minor": 4
}