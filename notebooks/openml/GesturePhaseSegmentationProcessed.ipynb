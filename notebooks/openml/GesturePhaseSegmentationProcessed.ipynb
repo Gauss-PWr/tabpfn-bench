{
  "cells": [
    {
      "cell_type": "markdown",
      "metadata": {},
      "source": [
        "# OpenML dataset: **_GesturePhaseSegmentationProcessed_**",
        "## **Description**",
        "**Author**: Renata Cristina Barros Madeo (Madeo\",\"R. C. B.)  Priscilla Koch Wagner (Wagner\",\"P. K.)  Sarajane Marques Peres (Peres\",\"S. M.)  {renata.si\",\"priscilla.wagner\",\"sarajane} at usp.br  http://each.uspnet.usp.br/sarajane/\n**Source**: [UCI](https://archive.ics.uci.edu/ml/datasets/gesture+phase+segmentation)\n**Please cite**: Please refer to the [Machine Learning Repository's citation policy](https://archive.ics.uci.edu/ml/citation_policy.html). Additionally, the authors require a citation to one or more publications from those cited as relevant papers.\n\nCreators:\n\nRenata Cristina Barros Madeo (Madeo, R. C. B.)\n\nPriscilla Koch Wagner (Wagner, P. K.)\n\nSarajane Marques Peres (Peres, S. M.)\n\n{renata.si, priscilla.wagner, sarajane} at usp.br\n\nhttp://each.uspnet.usp.br/sarajane/\n\nDonor:\n\nUniversity of Sao Paulo - Brazil\n\nData Set Information:\n\nThe dataset is composed by features extracted from 7 videos with people gesticulating, aiming at studying Gesture Phase Segmentation.\n\nEach video is represented by two files: a raw file, which contains the position of hands, wrists, head and spine of the user in each frame; and a processed file, which contains velocity and acceleration of hands and wrists. See the data set description for more information on the dataset.\n\nAttribute Information:\n\nRaw files: 18 numeric attributes (double), a timestamp and a class attribute (nominal).\n\nProcessed files: 32 numeric attributes (double) and a class attribute (nominal).\n\nA feature vector with up to 50 numeric attributes can be generated with the two files mentioned above.\n\nThis is the processed data set with the following feature description:\n\nProcessed files:\n\n1. Vectorial velocity of left hand (x coordinate)\n\n2. Vectorial velocity of left hand (y coordinate)\n\n3. Vectorial velocity of left hand (z coordinate)\n\n4. Vectorial velocity of right hand (x coordinate)\n\n5. Vectorial velocity of right hand (y coordinate)\n\n6. Vectorial velocity of right hand (z coordinate)\n\n7. Vectorial velocity of left wrist (x coordinate)\n\n8. Vectorial velocity of left wrist (y coordinate)\n\n9. Vectorial velocity of left wrist (z coordinate)\n\n10. Vectorial velocity of right wrist (x coordinate)\n\n11. Vectorial velocity of right wrist (y coordinate)\n\n12. Vectorial velocity of right wrist (z coordinate)\n\n13. Vectorial acceleration of left hand (x coordinate)\n\n14. Vectorial acceleration of left hand (y coordinate)\n\n15. Vectorial acceleration of left hand (z coordinate)\n\n16. Vectorial acceleration of right hand (x coordinate)\n\n17. Vectorial acceleration of right hand (y coordinate)\n\n18. Vectorial acceleration of right hand (z coordinate)\n\n19. Vectorial acceleration of left wrist (x coordinate)\n\n20. Vectorial acceleration of left wrist (y coordinate)\n\n21. Vectorial acceleration of left wrist (z coordinate)\n\n22. Vectorial acceleration of right wrist (x coordinate)\n\n23. Vectorial acceleration of right wrist (y coordinate)\n\n24. Vectorial acceleration of right wrist (z coordinate)\n\n25. Scalar velocity of left hand\n\n26. Scalar velocity of right hand\n\n27. Scalar velocity of left wrist\n\n28. Scalar velocity of right wrist\n\n29. Scalar velocity of left hand\n\n30. Scalar velocity of right hand\n\n31. Scalar velocity of left wrist\n\n32. Scalar velocity of right wrist\n\n33. phase:\n\n- D (rest position, from portuguese \"descanso\")\n\n- P (preparation)\n\n- S (stroke)\n\n- H (hold)\n\n- R (retraction)\n\nRelevant Papers:\n\n1. Madeo, R. C. B. ; Lima, C. A. M. ; PERES, S. M. . Gesture Unit Segmentation using Support Vector Machines: Segmenting\n\nGestures from Rest Positions. In: Symposium on Applied Computing (SAC), 2013, Coimbra. Proceedings of the 28th Annual\n\nACM Symposium on Applied Computing (SAC), 2013. p. 46-52.\n\n* In this paper, the videos A1 and A2 were studied.\n\n2. Wagner, P. K. ; PERES, S. M. ; Madeo, R. C. B. ; Lima, C. A. M. ; Freitas, F. A. . Gesture Unit Segmentation Using\n\nSpatial-Temporal Information and Machine Learning. In: 27th Florida Artificial Intelligence Research Society Conference\n\n(FLAIRS), 2014, Pensacola Beach. Proceedings of the 27th Florida Artificial Intelligence Research Society Conference\n\n(FLAIRS). Palo Alto : The AAAI Press, 2014. p. 101-106.\n\n* In this paper, the videos A1, A2, A3, B1, B3, C1 and C3 were studied.\n\n3. Madeo, R. C. B.. Support Vector Machines and Gesture Analysis: incorporating temporal aspects (in Portuguese). Master\n\nThesis - Universidade de Sao Paulo, Sao Paulo Researcher Foundation. 2013.\n\n* In this document, the videos named B1 and B3 in the document correspond to videos C1 and C3 in this dataset. Only\n\nfive videos were explored in this document: A1, A2, A3, C1 and C3.\n\n4. Wagner, P. K. ; Madeo, R. C. B. ; PERES, S. M. ; Lima, C. A. M. . Segmenta&Atilde;&sect;ao de Unidades Gestuais com Multilayer\n\nPerceptrons (in Portuguese). In: Encontro Nacional de Inteligencia Artificial e Computacional (ENIAC), 2013, Fortaleza.\n\nAnais do X Encontro Nacional de Inteligencia Artificial e Computacional (ENIAC), 2013.\n\n* In this paper, the videos A1, A2 and A3 were studied.\n\nCitation Request:\n\nPlease refer to the Machine Learning Repository's citation policy.\n\nAdditionally, the authors require a citation to one or more publications from those cited as relevant papers."
      ]
    },
    {
      "cell_type": "code",
      "execution_count": null,
      "metadata": {},
      "outputs": [],
      "source": [
        "import openml\n\n",
        "dataset = openml.datasets.get_dataset(4538)\n",
        "X, y, _, _ = dataset.get_data(target=dataset.default_target_attribute, dataset_format='dataframe')"
      ]
    },
    {
      "cell_type": "code",
      "execution_count": null,
      "metadata": {},
      "outputs": [],
      "source": [
        "X.head()"
      ]
    },
    {
      "cell_type": "code",
      "execution_count": null,
      "metadata": {},
      "outputs": [],
      "source": [
        "y.head()"
      ]
    }
  ],
  "metadata": {
    "kernelspec": {
      "display_name": "Python 3",
      "language": "python",
      "name": "python3"
    },
    "language_info": {
      "codemirror_mode": {
        "name": "ipython",
        "version": 3
      },
      "file_extension": ".py",
      "mimetype": "text/x-python",
      "name": "python",
      "nbconvert_exporter": "python",
      "pygments_lexer": "ipython3",
      "version": "3.8.5"
    }
  },
  "nbformat": 4,
  "nbformat_minor": 4
}