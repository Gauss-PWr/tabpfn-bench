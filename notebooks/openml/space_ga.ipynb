{
  "cells": [
    {
      "cell_type": "markdown",
      "metadata": {},
      "source": [
        "# OpenML dataset: **_space_ga_**",
        "## **Description**",
        "**Author**:\n**Source**: Unknown - Date unknown\n**Please cite**:\n\nGeographical Analysis Spatial Data\n\nThis georeferenced data set was used in:\n\nPace, R. Kelley, and Ronald Barry, Quick Computation of Regressions with a Spatially\nAutoregressive Dependent Variable, Geographical Analysis, Volume 29, Number 3, July\n1997, p. 232-247.\n\nIt contains 3,107 observations on U.S. county votes cast in the 1980 presidential election.\nSpecifically, it contains the total number of votes cast in the 1980 presidential election per\ncounty (VOTES), the population in each county of 18 years of age or older (POP), the\npopulation in each county with a 12th grade or higher education (EDUCATION), the\nnumber of owner-occupied housing units (HOUSES), the aggregate income (INCOME), the X\nspatial coordinate of the county (XCOORD), and the Y spatial coordinate of the county\n(YCOORD).\n\nThe dependent variable is the log of the proportion of votes cast for both candidates in the\n1980 presidential election. Hence, we can express our dependent variable as ln(VOTES/\nPOP) = ln(VOTES)-ln(POP).\n\nThe overall data set has the following structure\n\n[ln(VOTES/POP) POP EDUCATION HOUSES INCOME XCOORD YCOORD]\n\nAdditional details can be found, along with other data, manuscripts, free spatial software, and\nso forth, at www.spatial-statistics.com or www.finance.lsu.edu/re (follow the spatial statistics\nlink). In particular, the above mentioned manuscript which used the data is available for\ndownload. If you have any questions, send an email to kelley@spatial-statistics.com.\n\nInformation about the dataset\nCLASSTYPE: numeric\nCLASSINDEX: 1"
      ]
    },
    {
      "cell_type": "code",
      "execution_count": null,
      "metadata": {},
      "outputs": [],
      "source": [
        "import openml\n\n",
        "dataset = openml.datasets.get_dataset(507)\n",
        "X, y, _, _ = dataset.get_data(target=dataset.default_target_attribute, dataset_format='dataframe')"
      ]
    },
    {
      "cell_type": "code",
      "execution_count": null,
      "metadata": {},
      "outputs": [],
      "source": [
        "X.head()"
      ]
    },
    {
      "cell_type": "code",
      "execution_count": null,
      "metadata": {},
      "outputs": [],
      "source": [
        "y.head()"
      ]
    }
  ],
  "metadata": {
    "kernelspec": {
      "display_name": "Python 3",
      "language": "python",
      "name": "python3"
    },
    "language_info": {
      "codemirror_mode": {
        "name": "ipython",
        "version": 3
      },
      "file_extension": ".py",
      "mimetype": "text/x-python",
      "name": "python",
      "nbconvert_exporter": "python",
      "pygments_lexer": "ipython3",
      "version": "3.8.5"
    }
  },
  "nbformat": 4,
  "nbformat_minor": 4
}