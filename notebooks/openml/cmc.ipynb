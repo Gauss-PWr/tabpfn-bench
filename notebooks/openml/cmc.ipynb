{
  "cells": [
    {
      "cell_type": "markdown",
      "metadata": {},
      "source": [
        "# OpenML dataset: **_cmc_**",
        "## **Description**",
        "**Author**: [Tjen-Sien Lim](limt@stat.wisc.edu)\n**Source**: [As obtained from UCI](https://archive.ics.uci.edu/ml/datasets/Contraceptive+Method+Choice)\n**Please cite**: [UCI citation](https://archive.ics.uci.edu/ml/citation_policy.html)\n\n1. Title: Contraceptive Method Choice\n\n2. Sources:\n\n(a) Origin:  This dataset is a subset of the 1987 National Indonesia\n\nContraceptive Prevalence Survey\n\n(b) Creator: Tjen-Sien Lim (limt@stat.wisc.edu)\n\n(c) Donor:   Tjen-Sien Lim (limt@stat.wisc.edu)\n\n(c) Date:    June 7, 1997\n\n3. Past Usage:\n\nLim, T.-S., Loh, W.-Y. & Shih, Y.-S. (1999). A Comparison of\n\nPrediction Accuracy, Complexity, and Training Time of Thirty-three\n\nOld and New Classification Algorithms. Machine Learning. Forthcoming.\n\n(ftp://ftp.stat.wisc.edu/pub/loh/treeprogs/quest1.7/mach1317.pdf or\n\n(http://www.stat.wisc.edu/~limt/mach1317.pdf)\n\n4. Relevant Information:\n\nThis dataset is a subset of the 1987 National Indonesia Contraceptive\n\nPrevalence Survey. The samples are married women who were either not\n\npregnant or do not know if they were at the time of interview. The\n\nproblem is to predict the current contraceptive method choice\n\n(no use, long-term methods, or short-term methods) of a woman based\n\non her demographic and socio-economic characteristics.\n\n5. Number of Instances: 1473\n\n6. Number of Attributes: 10 (including the class attribute)\n\n7. Attribute Information:\n\n1. Wife's age                     (numerical)\n\n2. Wife's education               (categorical)      1=low, 2, 3, 4=high\n\n3. Husband's education            (categorical)      1=low, 2, 3, 4=high\n\n4. Number of children ever born   (numerical)\n\n5. Wife's religion                (binary)           0=Non-Islam, 1=Islam\n\n6. Wife's now working?            (binary)           0=Yes, 1=No\n\n7. Husband's occupation           (categorical)      1, 2, 3, 4\n\n8. Standard-of-living index       (categorical)      1=low, 2, 3, 4=high\n\n9. Media exposure                 (binary)           0=Good, 1=Not good\n\n10. Contraceptive method used     (class attribute)  1=No-use\n\n2=Long-term\n\n3=Short-term\n\n8. Missing Attribute Values: None\n\nInformation about the dataset\n\nCLASSTYPE: nominal\n\nCLASSINDEX: last"
      ]
    },
    {
      "cell_type": "code",
      "execution_count": null,
      "metadata": {},
      "outputs": [],
      "source": [
        "import openml\n\n",
        "dataset = openml.datasets.get_dataset(23)\n",
        "X, y, cat_atr_mask, names = dataset.get_data(target=dataset.default_target_attribute, dataset_format='dataframe')"
      ]
    },
    {
      "cell_type": "code",
      "execution_count": null,
      "metadata": {},
      "outputs": [],
      "source": [
        "X.head()"
      ]
    },
    {
      "cell_type": "code",
      "execution_count": null,
      "metadata": {},
      "outputs": [],
      "source": [
        "y.head()"
      ]
    }
  ],
  "metadata": {
    "kernelspec": {
      "display_name": "Python 3",
      "language": "python",
      "name": "python3"
    },
    "language_info": {
      "codemirror_mode": {
        "name": "ipython",
        "version": 3
      },
      "file_extension": ".py",
      "mimetype": "text/x-python",
      "name": "python",
      "nbconvert_exporter": "python",
      "pygments_lexer": "ipython3",
      "version": "3.8.5"
    }
  },
  "nbformat": 4,
  "nbformat_minor": 4
}