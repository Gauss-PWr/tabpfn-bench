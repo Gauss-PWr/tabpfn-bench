{
 "cells": [
  {
   "cell_type": "markdown",
   "metadata": {},
   "source": [
    "# OpenML dataset: **_energy_efficiency_**",
    "## **Description**",
    "**Data Description**:\n\nThis dataset looked into assessing the heating load and cooling load requirements of buildings (that is, energy efficiency) as a function of building parameters.\nEnergy analysis is performed using 12 different building shapes simulated in Ecotect. The buildings differ with respect to the glazing area, the glazing area distribution, and the orientation, amongst other parameters. Various settings as functions of the afore-mentioned characteristics are simulated to obtain 768 building shapes (number of observations in the dataset).\n**Attribute Description**:\n\nAll features describe different properties for the building.\n\n1. *relative_compactness*\n2. *surface_area*\n3. *wall_area*\n4. *roof_area*\n5. *overall_height*\n6. *orientation*\n7. *glazing_area*\n8. *glazing_area_distribution*\n9. *heating_load* - one possible option for target feature\n10. *cooling_load* - one possible option for target feature"
   ]
  },
  {
   "cell_type": "code",
   "execution_count": null,
   "metadata": {},
   "outputs": [],
   "source": [
    "import openml\n",
    "\n",
    "dataset = openml.datasets.get_dataset(44960)\n",
    "X, y, cat_atr_mask, names = dataset.get_data(\n",
    "    target=dataset.default_target_attribute, dataset_format=\"dataframe\"\n",
    ")"
   ]
  },
  {
   "cell_type": "code",
   "execution_count": null,
   "metadata": {},
   "outputs": [],
   "source": [
    "X.head()"
   ]
  },
  {
   "cell_type": "code",
   "execution_count": null,
   "metadata": {},
   "outputs": [],
   "source": [
    "y.head()"
   ]
  }
 ],
 "metadata": {
  "kernelspec": {
   "display_name": "Python 3",
   "language": "python",
   "name": "python3"
  },
  "language_info": {
   "codemirror_mode": {
    "name": "ipython",
    "version": 3
   },
   "file_extension": ".py",
   "mimetype": "text/x-python",
   "name": "python",
   "nbconvert_exporter": "python",
   "pygments_lexer": "ipython3",
   "version": "3.8.5"
  }
 },
 "nbformat": 4,
 "nbformat_minor": 4
}