{
 "cells": [
  {
   "cell_type": "markdown",
   "metadata": {},
   "source": [
    "# OpenML dataset: **_house_prices_nominal_**",
    "## **Description**",
    "**Author**: Kaggle\n**Source**: [original](https://www.kaggle.com/c/house-prices-advanced-regression-techniques) - 2011\n**Please cite**: Dean De Cock (2011) Ames, Iowa: Alternative to the Boston Housing Data as an End of Semester Regression Project, Journal of Statistics Education, 19:3, DOI: 10.1080/10691898.2011.11889627\n\nAsk a home buyer to describe their dream house, and they probably won't begin with the height of the basement ceiling or the proximity to an east-west railroad. But this playground competition's dataset proves that much more influences price negotiations than the number of bedrooms or a white-picket fence.\n\nWith 79 explanatory variables describing (almost) every aspect of residential homes in Ames, Iowa, this competition challenges you to predict the final price of each home.\n\nSalePrice - the property's sale price in dollars. This is the target variable that you're trying to predict.\n\nMSSubClass: The building class\n\nMSZoning: The general zoning classification\n\nLotFrontage: Linear feet of street connected to property\n\nLotArea: Lot size in square feet\n\nStreet: Type of road access\n\nAlley: Type of alley access\n\nLotShape: General shape of property\n\nLandContour: Flatness of the property\n\nUtilities: Type of utilities available\n\nLotConfig: Lot configuration\n\nLandSlope: Slope of property\n\nNeighborhood: Physical locations within Ames city limits\n\nCondition1: Proximity to main road or railroad\n\nCondition2: Proximity to main road or railroad (if a second is present)\n\nBldgType: Type of dwelling\n\nHouseStyle: Style of dwelling\n\nOverallQual: Overall material and finish quality\n\nOverallCond: Overall condition rating\n\nYearBuilt: Original construction date\n\nYearRemodAdd: Remodel date\n\nRoofStyle: Type of roof\n\nRoofMatl: Roof material\n\nExterior1st: Exterior covering on house\n\nExterior2nd: Exterior covering on house (if more than one material)\n\nMasVnrType: Masonry veneer type\n\nMasVnrArea: Masonry veneer area in square feet\n\nExterQual: Exterior material quality\n\nExterCond: Present condition of the material on the exterior\n\nFoundation: Type of foundation\n\nBsmtQual: Height of the basement\n\nBsmtCond: General condition of the basement\n\nBsmtExposure: Walkout or garden level basement walls\n\nBsmtFinType1: Quality of basement finished area\n\nBsmtFinSF1: Type 1 finished square feet\n\nBsmtFinType2: Quality of second finished area (if present)\n\nBsmtFinSF2: Type 2 finished square feet\n\nBsmtUnfSF: Unfinished square feet of basement area\n\nTotalBsmtSF: Total square feet of basement area\n\nHeating: Type of heating\n\nHeatingQC: Heating quality and condition\n\nCentralAir: Central air conditioning\n\nElectrical: Electrical system\n\n1stFlrSF: First Floor square feet\n\n2ndFlrSF: Second floor square feet\n\nLowQualFinSF: Low quality finished square feet (all floors)\n\nGrLivArea: Above grade (ground) living area square feet\n\nBsmtFullBath: Basement full bathrooms\n\nBsmtHalfBath: Basement half bathrooms\n\nFullBath: Full bathrooms above grade\n\nHalfBath: Half baths above grade\n\nBedroom: Number of bedrooms above basement level\n\nKitchen: Number of kitchens\n\nKitchenQual: Kitchen quality\n\nTotRmsAbvGrd: Total rooms above grade (does not include bathrooms)\n\nFunctional: Home functionality rating\n\nFireplaces: Number of fireplaces\n\nFireplaceQu: Fireplace quality\n\nGarageType: Garage location\n\nGarageYrBlt: Year garage was built\n\nGarageFinish: Interior finish of the garage\n\nGarageCars: Size of garage in car capacity\n\nGarageArea: Size of garage in square feet\n\nGarageQual: Garage quality\n\nGarageCond: Garage condition\n\nPavedDrive: Paved driveway\n\nWoodDeckSF: Wood deck area in square feet\n\nOpenPorchSF: Open porch area in square feet\n\nEnclosedPorch: Enclosed porch area in square feet\n\n3SsnPorch: Three season porch area in square feet\n\nScreenPorch: Screen porch area in square feet\n\nPoolArea: Pool area in square feet\n\nPoolQC: Pool quality\n\nFence: Fence quality\n\nMiscFeature: Miscellaneous feature not covered in other categories\n\nMiscVal: $Value of miscellaneous feature\n\nMoSold: Month Sold\n\nYrSold: Year Sold\n\nSaleType: Type of sale\n\nSaleCondition: Condition of sale"
   ]
  },
  {
   "cell_type": "code",
   "execution_count": null,
   "metadata": {},
   "outputs": [],
   "source": [
    "import openml\n",
    "\n",
    "dataset = openml.datasets.get_dataset(42563)\n",
    "X, y, cat_atr_mask, names = dataset.get_data(\n",
    "    target=dataset.default_target_attribute, dataset_format=\"dataframe\"\n",
    ")"
   ]
  },
  {
   "cell_type": "code",
   "execution_count": null,
   "metadata": {},
   "outputs": [],
   "source": [
    "X.head()"
   ]
  },
  {
   "cell_type": "code",
   "execution_count": null,
   "metadata": {},
   "outputs": [],
   "source": [
    "y.head()"
   ]
  }
 ],
 "metadata": {
  "kernelspec": {
   "display_name": "Python 3",
   "language": "python",
   "name": "python3"
  },
  "language_info": {
   "codemirror_mode": {
    "name": "ipython",
    "version": 3
   },
   "file_extension": ".py",
   "mimetype": "text/x-python",
   "name": "python",
   "nbconvert_exporter": "python",
   "pygments_lexer": "ipython3",
   "version": "3.8.5"
  }
 },
 "nbformat": 4,
 "nbformat_minor": 4
}