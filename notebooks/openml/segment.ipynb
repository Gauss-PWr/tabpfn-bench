{
  "cells": [
    {
      "cell_type": "markdown",
      "metadata": {},
      "source": [
        "# OpenML dataset: **_segment_**",
        "## **Description**",
        "**Author**: University of Massachusetts Vision Group, Carla Brodley\n**Source**: [UCI](http://archive.ics.uci.edu/ml/datasets/image+segmentation) - 1990\n**Please cite**: [UCI](http://archive.ics.uci.edu/ml/citation_policy.html)\n**Image Segmentation Data Set**:\nThe instances were drawn randomly from a database of 7 outdoor images. The images were hand-segmented to create a classification for every pixel. Each instance is a 3x3 region.\n\n__Major changes w.r.t. version 2: ignored first two variables as they do not fit the classification task (they reflect the location of the sample in the original image). The 3rd is constant, so should also be ignored.__\n\n### Attribute Information\n\n4.  short-line-density-5:  the results of a line extractoin algorithm that\ncounts how many lines of length 5 (any orientation) with\nlow contrast, less than or equal to 5, go through the region.\n5.  short-line-density-2:  same as short-line-density-5 but counts lines\nof high contrast, greater than 5.\n6.  vedge-mean:  measure the contrast of horizontally\nadjacent pixels in the region.  There are 6, the mean and\nstandard deviation are given.  This attribute is used as\na vertical edge detector.\n7.  vegde-sd:  (see 6)\n8.  hedge-mean:  measures the contrast of vertically adjacent\npixels. Used for horizontal line detection.\n9.  hedge-sd: (see 8).\n10. intensity-mean:  the average over the region of (R + G + B)/3\n11. rawred-mean: the average over the region of the R value.\n12. rawblue-mean: the average over the region of the B value.\n13. rawgreen-mean: the average over the region of the G value.\n14. exred-mean: measure the excess red:  (2R - (G + B))\n15. exblue-mean: measure the excess blue:  (2B - (G + R))\n16. exgreen-mean: measure the excess green:  (2G - (R + B))\n17. value-mean:  3-d nonlinear transformation\nof RGB. (Algorithm can be found in Foley and VanDam, Fundamentals\nof Interactive Computer Graphics)\n18. saturatoin-mean:  (see 17)\n19. hue-mean:  (see 17)"
      ]
    },
    {
      "cell_type": "code",
      "execution_count": null,
      "metadata": {},
      "outputs": [],
      "source": [
        "import openml\n\n",
        "dataset = openml.datasets.get_dataset(40984)\n",
        "X, y, _, _ = dataset.get_data(target=dataset.default_target_attribute, dataset_format='dataframe')"
      ]
    },
    {
      "cell_type": "code",
      "execution_count": null,
      "metadata": {},
      "outputs": [],
      "source": [
        "X.head()"
      ]
    },
    {
      "cell_type": "code",
      "execution_count": null,
      "metadata": {},
      "outputs": [],
      "source": [
        "y.head()"
      ]
    }
  ],
  "metadata": {
    "kernelspec": {
      "display_name": "Python 3",
      "language": "python",
      "name": "python3"
    },
    "language_info": {
      "codemirror_mode": {
        "name": "ipython",
        "version": 3
      },
      "file_extension": ".py",
      "mimetype": "text/x-python",
      "name": "python",
      "nbconvert_exporter": "python",
      "pygments_lexer": "ipython3",
      "version": "3.8.5"
    }
  },
  "nbformat": 4,
  "nbformat_minor": 4
}