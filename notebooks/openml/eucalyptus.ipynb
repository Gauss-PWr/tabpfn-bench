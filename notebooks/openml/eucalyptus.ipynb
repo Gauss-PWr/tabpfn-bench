{
 "cells": [
  {
   "cell_type": "markdown",
   "metadata": {},
   "source": [
    "# OpenML dataset: **_eucalyptus_**",
    "## **Description**",
    "**Author**: Bruce Bulloch\n**Source**: [WEKA Dataset Collection](http://www.cs.waikato.ac.nz/ml/weka/datasets.html) - part of the agridatasets archive. [This is the true source](http://tunedit.org/repo/Data/Agricultural/eucalyptus.arff)\n**Please cite**: None\n**Eucalyptus Soil Conservation**:\n\nThe objective was to determine which seedlots in a species are best for soil conservation in seasonally dry hill country. Determination is found by measurement of height, diameter by height, survival, and other contributing factors.\n\nIt is important to note that eucalypt trial methods changed over time; earlier trials included mostly 15 - 30cm tall seedling grown in peat plots and the later trials have included mostly three replications of eight trees grown. This change may contribute to less significant results.\n\nExperimental data recording procedures which require noting include:\n\n- instances with no data recorded due to experimental recording procedures\n\nrequire that the absence of a species from one replicate at a site was\n\ntreated as a missing value, but if absent from two or more replicates at a\n\nsite the species was excluded from the site's analyses.\n\n- missing data for survival, vigour, insect resistance, stem form, crown form\n\nand utility especially for the data recorded at the Morea Station; this\n\ncould indicate the death of species in these areas or a lack in collection\n\nof data.\n\n### Attribute Information\n\n1.  Abbrev - site abbreviation - enumerated\n\n2.  Rep - site rep - integer\n\n3.  Locality - site locality in the North Island - enumerated\n\n4.  Map_Ref - map location in the North Island - enumerated\n\n5.  Latitude - latitude approximation - enumerated\n\n6.  Altitude - altitude approximation - integer\n\n7.  Rainfall - rainfall (mm pa) - integer\n\n8.  Frosts - frosts (deg. c) - integer\n\n9.  Year - year of planting - integer\n\n10. Sp - species code - enumerated\n\n11. PMCno - seedlot number - integer\n\n12. DBH - best diameter base height (cm) - real\n\n13. Ht - height (m) - real\n\n14. Surv - survival - integer\n\n15. Vig - vigour - real\n\n16. Ins_res - insect resistance - real\n\n17. Stem_Fm - stem form - real\n\n18. Crown_Fm - crown form - real\n\n19. Brnch_Fm - branch form - real\n\nClass:\n\n20. Utility - utility rating - enumerated\n\n### Relevant papers\n\nBulluch B. T., (1992) Eucalyptus Species Selection for Soil Conservation in Seasonally Dry Hill Country - Twelfth Year Assessment  New Zealand Journal of Forestry Science 21(1): 10 - 31 (1991)\n\nKirsten Thomson and Robert J. McQueen (1996) Machine Learning Applied to Fourteen Agricultural Datasets. University of Waikato Research Report\n\nhttps://www.cs.waikato.ac.nz/ml/publications/1996/Thomson-McQueen-96.pdf + the original publication:"
   ]
  },
  {
   "cell_type": "code",
   "execution_count": null,
   "metadata": {},
   "outputs": [],
   "source": [
    "import openml\n",
    "\n",
    "dataset = openml.datasets.get_dataset(188)\n",
    "X, y, cat_atr_mask, names = dataset.get_data(\n",
    "    target=dataset.default_target_attribute, dataset_format=\"dataframe\"\n",
    ")"
   ]
  },
  {
   "cell_type": "code",
   "execution_count": null,
   "metadata": {},
   "outputs": [],
   "source": [
    "X.head()"
   ]
  },
  {
   "cell_type": "code",
   "execution_count": null,
   "metadata": {},
   "outputs": [],
   "source": [
    "y.head()"
   ]
  }
 ],
 "metadata": {
  "kernelspec": {
   "display_name": "Python 3",
   "language": "python",
   "name": "python3"
  },
  "language_info": {
   "codemirror_mode": {
    "name": "ipython",
    "version": 3
   },
   "file_extension": ".py",
   "mimetype": "text/x-python",
   "name": "python",
   "nbconvert_exporter": "python",
   "pygments_lexer": "ipython3",
   "version": "3.8.5"
  }
 },
 "nbformat": 4,
 "nbformat_minor": 4
}