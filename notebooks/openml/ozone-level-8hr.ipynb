{
 "cells": [
  {
   "cell_type": "markdown",
   "metadata": {},
   "source": [
    "# OpenML dataset: **_ozone-level-8hr_**",
    "## **Description**",
    "**Author**: Kun Zhang, Wei Fan, XiaoJing Yuan\n**Source**: [UCI](https://archive.ics.uci.edu/ml/datasets/ozone+level+detection)\n**Please cite**:\n\nForecasting skewed biased stochastic ozone days: analyses, solutions and beyond, Knowledge and Information Systems, Vol. 14, No. 3, 2008.\n\n1 . Abstract:\n\nTwo ground ozone level data sets are included in this collection. One is the eight hour peak set (eighthr.data), the other is the one hour peak set (onehr.data). Those data were collected from 1998 to 2004 at the Houston, Galveston and Brazoria area.\n\n2. Source:\n\nKun Zhang, zhang.kun05 '@' gmail.com, Department of Computer Science, Xavier University of Lousiana\n\nWei Fan, wei.fan '@' gmail.com, IBM T.J.Watson Research\n\nXiaoJing Yuan, xyuan '@' uh.edu, Engineering Technology Department, College of Technology, University of Houston\n\n3. Data Set Information:\n\nAll the attribute start with T means the temperature measured at different time throughout the day; and those starts with WS indicate the wind speed at various time.\n\nWSR_PK: continuous. peek wind speed -- resultant (meaning average of wind vector)\n\nWSR_AV: continuous. average wind speed\n\nT_PK: continuous. Peak T\n\nT_AV: continuous. Average T\n\nT85: continuous. T at 850 hpa level (or about 1500 m height)\n\nRH85: continuous. Relative Humidity at 850 hpa\n\nU85: continuous. (U wind - east-west direction wind at 850 hpa)\n\nV85: continuous. V wind - N-S direction wind at 850\n\nHT85: continuous. Geopotential height at 850 hpa, it is about the same as height at low altitude\n\nT70: continuous. T at 700 hpa level (roughly 3100 m height)\n\nRH70: continuous.\n\nU70: continuous.\n\nV70: continuous.\n\nHT70: continuous.\n\nT50: continuous. T at 500 hpa level (roughly at 5500 m height)\n\nRH50: continuous.\n\nU50: continuous.\n\nV50: continuous.\n\nHT50: continuous.\n\nKI: continuous. K-Index [Web Link]\n\nTT: continuous. T-Totals [Web Link]\n\nSLP: continuous. Sea level pressure\n\nSLP_: continuous. SLP change from previous day\n\nPrecp: continuous. -- precipitation\n\n4. Attribute Information:\n\nThe following are specifications for several most important attributes that are highly valued by Texas Commission on Environmental Quality (TCEQ). More details can be found in the two relevant papers.\n\nO 3 - Local ozone peak prediction\n\nUpwind - Upwind ozone background level\n\nEmFactor - Precursor emissions related factor\n\nTmax - Maximum temperature in degrees F\n\nTb - Base temperature where net ozone production begins (50 F)\n\nSRd - Solar radiation total for the day\n\nWSa - Wind speed near sunrise (using 09-12 UTC forecast mode)\n\nWSp - Wind speed mid-day (using 15-21 UTC forecast mode)\n\n5. Relevant Papers:\n\nForecasting skewed biased stochastic ozone days: analyses, solutions and beyond, Knowledge and Information Systems, Vol. 14, No. 3, 2008.\n\nIt Discusses details about the dataset, its use as well as various experiments (both cross-validation and streaming) using many state-of-the-art methods.\n\nA shorter version of the paper (does not contain some detailed experiments as the journal paper above) is in:\n\nForecasting Skewed Biased Stochastic Ozone Days: Analyses and Solutions. ICDM 2006: 753-764"
   ]
  },
  {
   "cell_type": "code",
   "execution_count": null,
   "metadata": {},
   "outputs": [],
   "source": [
    "import openml\n",
    "\n",
    "dataset = openml.datasets.get_dataset(1487)\n",
    "X, y, cat_atr_mask, names = dataset.get_data(\n",
    "    target=dataset.default_target_attribute, dataset_format=\"dataframe\"\n",
    ")"
   ]
  },
  {
   "cell_type": "code",
   "execution_count": null,
   "metadata": {},
   "outputs": [],
   "source": [
    "X.head()"
   ]
  },
  {
   "cell_type": "code",
   "execution_count": null,
   "metadata": {},
   "outputs": [],
   "source": [
    "y.head()"
   ]
  }
 ],
 "metadata": {
  "kernelspec": {
   "display_name": "Python 3",
   "language": "python",
   "name": "python3"
  },
  "language_info": {
   "codemirror_mode": {
    "name": "ipython",
    "version": 3
   },
   "file_extension": ".py",
   "mimetype": "text/x-python",
   "name": "python",
   "nbconvert_exporter": "python",
   "pygments_lexer": "ipython3",
   "version": "3.8.5"
  }
 },
 "nbformat": 4,
 "nbformat_minor": 4
}