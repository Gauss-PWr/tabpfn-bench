{
  "cells": [
    {
      "cell_type": "markdown",
      "metadata": {},
      "source": [
        "# OpenML dataset: **_kc1_**",
        "## **Description**",
        "**Author**: Mike Chapman, NASA\n**Source**: [tera-PROMISE](http://openscience.us/repo/defect/mccabehalsted/kc1.html) - 2004\n**Please cite**: Sayyad Shirabad, J. and Menzies, T.J. (2005) The PROMISE Repository of Software Engineering Databases. School of Information Technology and Engineering, University of Ottawa, Canada.\n\n**KC1 Software defect prediction**\n\nOne of the NASA Metrics Data Program defect data sets. Data from software for storage management for receiving and processing ground data. Data comes from McCabe and Halstead features extractors of source code.  These features were defined in the 70s in an attempt to objectively characterize code features that are associated with software quality.\n\n### Attribute Information\n\n1. loc             : numeric % McCabe's line count of code\n\n2. v(g)            : numeric % McCabe \"cyclomatic complexity\"\n\n3. ev(g)           : numeric % McCabe \"essential complexity\"\n\n4. iv(g)           : numeric % McCabe \"design complexity\"\n\n5. n               : numeric % Halstead total operators + operands\n\n6. v               : numeric % Halstead \"volume\"\n\n7. l               : numeric % Halstead \"program length\"\n\n8. d               : numeric % Halstead \"difficulty\"\n\n9. i               : numeric % Halstead \"intelligence\"\n\n10. e               : numeric % Halstead \"effort\"\n\n11. b               : numeric % Halstead\n\n12. t               : numeric % Halstead's time estimator\n\n13. lOCode          : numeric % Halstead's line count\n\n14. lOComment       : numeric % Halstead's count of lines of comments\n\n15. lOBlank         : numeric % Halstead's count of blank lines\n\n16. lOCodeAndComment: numeric\n\n17. uniq_Op         : numeric % unique operators\n\n18. uniq_Opnd       : numeric % unique operands\n\n19. total_Op        : numeric % total operators\n\n20. total_Opnd      : numeric % total operands\n\n21. branchCount     : numeric % of the flow graph\n\n22. problems        : {false,true} % module has/has not one or more reported defects\n\n### Relevant papers\n\n- Shepperd, M. and Qinbao Song and Zhongbin Sun and Mair, C. (2013)\n\nData Quality: Some Comments on the NASA Software Defect Datasets, IEEE Transactions on Software Engineering, 39.\n\n- Tim Menzies and Justin S. Di Stefano (2004) How Good is Your Blind Spot Sampling Policy? 2004 IEEE Conference on High Assurance\n\nSoftware Engineering.\n\n- T. Menzies and J. DiStefano and A. Orrego and R. Chapman (2004) Assessing Predictors of Software Defects\", Workshop on Predictive Software Models, Chicago"
      ]
    },
    {
      "cell_type": "code",
      "execution_count": null,
      "metadata": {},
      "outputs": [],
      "source": [
        "import openml\n\n",
        "dataset = openml.datasets.get_dataset(1067)\n",
        "X, y, _, _ = dataset.get_data(target=dataset.default_target_attribute, dataset_format='dataframe')"
      ]
    },
    {
      "cell_type": "code",
      "execution_count": null,
      "metadata": {},
      "outputs": [],
      "source": [
        "X.head()"
      ]
    },
    {
      "cell_type": "code",
      "execution_count": null,
      "metadata": {},
      "outputs": [],
      "source": [
        "y.head()"
      ]
    }
  ],
  "metadata": {
    "kernelspec": {
      "display_name": "Python 3",
      "language": "python",
      "name": "python3"
    },
    "language_info": {
      "codemirror_mode": {
        "name": "ipython",
        "version": 3
      },
      "file_extension": ".py",
      "mimetype": "text/x-python",
      "name": "python",
      "nbconvert_exporter": "python",
      "pygments_lexer": "ipython3",
      "version": "3.8.5"
    }
  },
  "nbformat": 4,
  "nbformat_minor": 4
}