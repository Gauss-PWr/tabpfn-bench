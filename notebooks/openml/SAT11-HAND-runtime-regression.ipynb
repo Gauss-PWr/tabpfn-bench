{
  "cells": [
    {
      "cell_type": "markdown",
      "metadata": {},
      "source": [
        "# OpenML dataset: **_SAT11-HAND-runtime-regression_**",
        "## **Description**",
        "source: http://www.cs.ubc.ca/labs/beta/Projects/SATzilla/\nauthors: L. Xu, F. Hutter, H. Hoos, K. Leyton-Brown\ntranslator in coseal format: M. Lindauer with the help of Alexandre Frechette\nthe data do not distinguish between timeout, memout or crashes!\nthe status file will only have ok or timeout!\nIf features are \"?\", the instance was solved during feature computation.\n\nAlthough there is no necessary alignment and dependencies between the feature processing steps,\nthe steps were executed in a fixed alignment.\nTherefore, all feature steps depend on the previous executed ones."
      ]
    },
    {
      "cell_type": "code",
      "execution_count": null,
      "metadata": {},
      "outputs": [],
      "source": [
        "import openml\n\n",
        "dataset = openml.datasets.get_dataset(41980)\n",
        "X, y, cat_atr_mask, names = dataset.get_data(target=dataset.default_target_attribute, dataset_format='dataframe')"
      ]
    },
    {
      "cell_type": "code",
      "execution_count": null,
      "metadata": {},
      "outputs": [],
      "source": [
        "X.head()"
      ]
    },
    {
      "cell_type": "code",
      "execution_count": null,
      "metadata": {},
      "outputs": [],
      "source": [
        "y.head()"
      ]
    }
  ],
  "metadata": {
    "kernelspec": {
      "display_name": "Python 3",
      "language": "python",
      "name": "python3"
    },
    "language_info": {
      "codemirror_mode": {
        "name": "ipython",
        "version": 3
      },
      "file_extension": ".py",
      "mimetype": "text/x-python",
      "name": "python",
      "nbconvert_exporter": "python",
      "pygments_lexer": "ipython3",
      "version": "3.8.5"
    }
  },
  "nbformat": 4,
  "nbformat_minor": 4
}