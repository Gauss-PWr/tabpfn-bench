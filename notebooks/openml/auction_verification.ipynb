{
  "cells": [
    {
      "cell_type": "markdown",
      "metadata": {},
      "source": [
        "# OpenML dataset: **_auction_verification_**",
        "## **Description**",
        "**Data Description**:\n\nThis dataset was created to verify properties of an Simultaneous Multi-Round (SMR) auction model.\nThe creators of the dataset use BPMN to model the design of the German 4G spectrum auction to sell 800 MHz band. The auction has four bidders and six products. A random budget is assigned from the range [1, 100] to each bidder for each product. A reserve price of 3 is also defined for all products. Further, each bidder has an individual capacity.\n\nEach instance in the dataset represents a simulation of an auction.\n**Attribute Description**:\n\n1. *process.b1.capacity* - an integer in [0, 3], denoting the current capacities of the bidders\n2. *process.b2.capacity* - an integer in [0, 3], denoting the current capacities of the bidders\n3. *process.b3.capacity* - an integer in [0, 3], denoting the current capacities of the bidders\n4. *process.b4.capacity* - an integer in [0, 3], denoting the current capacities of the bidders\n5. *property.price* - an integer in [59, 90], denoting the price that is currently verified for the property.product\n6. *property.product* - an integer in [1, 6], denoting the currently verified product\n7. *property.winner* - an integer in [1, 4], denoting the bidder that is currently verified as winner for the property.product with the property.price. This feature is empty for iterations where the price is not clear yet.\n8. *verification.result* - a boolean denoting if current property is satisfied in the underlying Petri Net or not, ignored column\n9. *verification.time* - a positive integer, denoting the time (in ms) for verifying the current property against the underlying Petri Net, target feature"
      ]
    },
    {
      "cell_type": "code",
      "execution_count": null,
      "metadata": {},
      "outputs": [],
      "source": [
        "import openml\n\n",
        "dataset = openml.datasets.get_dataset(44958)\n",
        "X, y, cat_atr_mask, names = dataset.get_data(target=dataset.default_target_attribute, dataset_format='dataframe')"
      ]
    },
    {
      "cell_type": "code",
      "execution_count": null,
      "metadata": {},
      "outputs": [],
      "source": [
        "X.head()"
      ]
    },
    {
      "cell_type": "code",
      "execution_count": null,
      "metadata": {},
      "outputs": [],
      "source": [
        "y.head()"
      ]
    }
  ],
  "metadata": {
    "kernelspec": {
      "display_name": "Python 3",
      "language": "python",
      "name": "python3"
    },
    "language_info": {
      "codemirror_mode": {
        "name": "ipython",
        "version": 3
      },
      "file_extension": ".py",
      "mimetype": "text/x-python",
      "name": "python",
      "nbconvert_exporter": "python",
      "pygments_lexer": "ipython3",
      "version": "3.8.5"
    }
  },
  "nbformat": 4,
  "nbformat_minor": 4
}