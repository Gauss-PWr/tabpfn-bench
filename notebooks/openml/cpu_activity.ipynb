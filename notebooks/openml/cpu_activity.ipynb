{
 "cells": [
  {
   "cell_type": "markdown",
   "metadata": {},
   "source": [
    "# OpenML dataset: **_cpu_activity_**",
    "## **Description**",
    "**Data Description**:\n\nThe Computer Activity databases are a collection of computer systems activity measures. The data was collected from a Sun Sparcstation 20/712 with 128 Mbytes of memory running in a multi-user university department.\nUsers would typically be doing a large variety of tasks ranging from accessing the internet, editing files or running very cpu-bound programs. The data was collected continuously on two separate occasions. On both occassions, system activity was gathered every 5 seconds. The final dataset is taken from both occasions with equal numbers of observations coming from each collection epoch.\n\nEach instance represents one observed system performance. The goal is to predict portion of time that cpus run in user mode.\n**Attribute Description**:\n\n1. *lread* - Reads (transfers per second ) between system memory and user memory.\n2. *lwrite* - writes (transfers per second) between system memory and user memory.\n3. *scall* - Number of system calls of all types per second.\n4. *sread* - Number of system read calls per second.\n5. *swrite* - Number of system write calls per second .\n6. *fork* - Number of system fork calls per second.\n7. *exec* - Number of system exec calls per second.\n8. *rchar* - Number of characters transferred per second by system read calls.\n9. *wchar* - Number of characters transfreed per second by system write calls.\n10. *pgout* - Number of page out requests per second.\n11. *ppgout* - Number of pages, paged out per second.\n12. *pgfree* - Number of pages per second placed on the free list.\n13. *pgscan* - Number of pages checked if they can be freed per second.\n14. *atch* - Number of page attaches (satisfying a page fault by reclaiming a page in memory) per second.\n15. *pgin* - Number of page-in requests per second.\n16. *ppgin* - Number of pages paged in per second.\n17. *pflt* - Number of page faults caused by protection errors (copy-on-writes).\n18. *vflt* - Number of page faults caused by address translation.\n19. *runqsz* - Process run queue size.\n20. *freemem* - Number of memory pages available to user processes.\n21. *freeswap* - Number of disk blocks available for page swapping.\n22. *usr* - Portion of time (%) that cpus run in user mode."
   ]
  },
  {
   "cell_type": "code",
   "execution_count": null,
   "metadata": {},
   "outputs": [],
   "source": [
    "import openml\n",
    "\n",
    "dataset = openml.datasets.get_dataset(44978)\n",
    "X, y, cat_atr_mask, names = dataset.get_data(\n",
    "    target=dataset.default_target_attribute, dataset_format=\"dataframe\"\n",
    ")"
   ]
  },
  {
   "cell_type": "code",
   "execution_count": null,
   "metadata": {},
   "outputs": [],
   "source": [
    "X.head()"
   ]
  },
  {
   "cell_type": "code",
   "execution_count": null,
   "metadata": {},
   "outputs": [],
   "source": [
    "y.head()"
   ]
  }
 ],
 "metadata": {
  "kernelspec": {
   "display_name": "Python 3",
   "language": "python",
   "name": "python3"
  },
  "language_info": {
   "codemirror_mode": {
    "name": "ipython",
    "version": 3
   },
   "file_extension": ".py",
   "mimetype": "text/x-python",
   "name": "python",
   "nbconvert_exporter": "python",
   "pygments_lexer": "ipython3",
   "version": "3.8.5"
  }
 },
 "nbformat": 4,
 "nbformat_minor": 4
}