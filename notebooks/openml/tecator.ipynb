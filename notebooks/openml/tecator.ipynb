{
  "cells": [
    {
      "cell_type": "markdown",
      "metadata": {},
      "source": [
        "# OpenML dataset: **_tecator_**",
        "## **Description**",
        "**Author**:\n**Source**: Unknown - Date unknown\n**Please cite**:\n\nThis is the Tecator data set: The task is to predict the fat content of a\nmeat sample on the basis of its near infrared absorbance spectrum.\n1. Statement of permission from Tecator (the original data source)\n\nThese data are recorded on a Tecator Infratec Food and Feed Analyzer\nworking in the wavelength range 850 - 1050 nm by the Near Infrared\nTransmission (NIT) principle. Each sample contains finely chopped pure\nmeat with different moisture, fat and protein contents.\n\nIf results from these data are used in a publication we want you to\nmention the instrument and company name (Tecator) in the publication.\nIn addition, please send a preprint of your article to\n\nKarin Thente, Tecator AB,\nBox 70, S-263 21 Hoganas, Sweden\n\nThe data are available in the public domain with no responsability from\nthe original data source. The data can be redistributed as long as this\npermission note is attached.\nFor more information about the instrument - call Perstorp Analytical's\nrepresentative in your area.\n\n2. Description of the data file\n\nFor each meat sample the data consists of a 100 channel spectrum of\nabsorbances and the contents of moisture (water), fat and protein.\nThe absorbance is -log10 of the transmittance\nmeasured by the spectrometer. The three contents, measured in percent,\nare determined by analytic chemistry.\n\nThere are 240 samples which are divided into 5 data sets for the purpose\nof model validation and extrapolation studies. The data sets, further\ndescribed in reference 1, are:\n\nData set  Use               Samples\nC         Traning               129\nM         Monitoring             43\nT         Testing                43\nE1        Extrapolation, Fat      8\nE2        Extrapolation, Protein 17\n\nThe data for all 240 samples appear at the end of this file - 25 lines\nper sample. The data sets appear in the order of the table above.\nThe spectra are preprocessed using a principal component analysis on the\ndata set C, and the first 22 principal components (scaled to unit\nvariance) are included for each sample.\nThus if you want to use the data for a standard (interpolation) test\nof your algorithm, use sample 1-172 for training and sample 173-215\nfor testing (and ignore the last 25 samples), and use the first 13 or so\nprincipal components to predict the fat content.\n\nEach line contains the 100 absorbances followed by the 22 principal\ncomponents and finally the contents of moisture, fat and protein.\n\nPreceeding the data lines, the following lines appear:\n\nreal_in=122\nreal_out=3\ntraining_examples=172\ntest_examples=43\nextrapolation_examples=25\n\n3. More details on how to use the data\n\nThe data are made available as a benchmark for regression models. In order\nto compare models, it is practical to use the data set as follows:\n\nC and M combined are used to tune (estimate, train) the model. (Some\napproaches set aside some training data to control overfitting. These data\nshould be a subset of C+M. In (1) the subset M was used for this purpose.)\n\nT is used to test the model once it has been tuned.\nIf each model has an element of randomness (as is the case\nfor neural networks) the most reliable measure of performance of a single\nmodel is obtained by selecting a handful of models on the basis of C+M and\nquoting the average of the performances on T.\nIn the presence of randomness it is bad practice to train a lot of models\non C+M and then select the best of these on the basis of T.\n\nC, M and T are drawn from the same pool of data, so T is used to test the\nability of the models to interpolate. The data sets E1 and E2 contain\nmore fat and protein respectively and are intended to be used to test the\nability of the models to extrapolate.\n\n4. Performance of neural network models\n\nThe performance is measured as Standard Error of Prediction (SEP) which\nis the root mean square of the difference between the true and the predicted\ncontent.\n\nFor the prediction of fat on the data set T the following results were obtained\n\nReference SEP   method (see the papers for details)\n(1)       0.65  10-6-1 network, early stopping\n(2)       0.52  10-3-1 network, Bayesian\n(3)       0.36  13-X-1 network, Bayesian, Automatic Relevance Determination\n\nA linear model with 10 inputs yields SEP=2.78.\n\n5. References\n\n(1) C.Borggaard and H.H.Thodberg,\n\"Optimal Minimal Neural Interpretation of Spectra\",\nAnalytical Chemistry 64 (1992), p 545-551.\n(2) H.H.Thodberg, \"Ace of Bayes: Application of Neural Networks with Pruning\"\nManuscript 1132, Danish Meat Research Institute (1993),\navailable by anonymous ftp in the file:\npub/neuroprose/thodberg.ace-of-bayes.ps.Z on the Internet node\narchive.cis.ohio-state.edu (128.146.8.52).\n\n(3) Revised and extended version of (2), in preparation, to be\nsubmitted to IEEE Trans. Neural Networks (1995)\navailable by anonymous ftp in the file:\npub/neuroprose/thodberg.bayesARD.ps.Z on the Internet node\narchive.cis.ohio-state.edu (128.146.8.52).\n\nHans Henrik Thodberg                Email: thodberg@nn.dmri.dk\nDanish Meat Research Institute      Phone: (+45) 42 36 12 00\nMaglegaardsvej 2, Postboks 57       Fax:   (+45) 42 36 48 36\nDK-4000 Roskilde, Denmark\n\nreal_in=122\nreal_out=3\ntraining_examples=172\ntest_examples=43\nextrapolation_examples=25\n\nNote: all 240 samples are included in the same order as mentioned above\n\nInformation about the dataset\nCLASSTYPE: numeric\nCLASSINDEX: none specific"
      ]
    },
    {
      "cell_type": "code",
      "execution_count": null,
      "metadata": {},
      "outputs": [],
      "source": [
        "import openml\n\n",
        "dataset = openml.datasets.get_dataset(505)\n",
        "X, y, _, _ = dataset.get_data(target=dataset.default_target_attribute, dataset_format='dataframe')"
      ]
    },
    {
      "cell_type": "code",
      "execution_count": null,
      "metadata": {},
      "outputs": [],
      "source": [
        "X.head()"
      ]
    },
    {
      "cell_type": "code",
      "execution_count": null,
      "metadata": {},
      "outputs": [],
      "source": [
        "y.head()"
      ]
    }
  ],
  "metadata": {
    "kernelspec": {
      "display_name": "Python 3",
      "language": "python",
      "name": "python3"
    },
    "language_info": {
      "codemirror_mode": {
        "name": "ipython",
        "version": 3
      },
      "file_extension": ".py",
      "mimetype": "text/x-python",
      "name": "python",
      "nbconvert_exporter": "python",
      "pygments_lexer": "ipython3",
      "version": "3.8.5"
    }
  },
  "nbformat": 4,
  "nbformat_minor": 4
}