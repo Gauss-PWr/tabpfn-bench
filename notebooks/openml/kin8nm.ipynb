{
  "cells": [
    {
      "cell_type": "markdown",
      "metadata": {},
      "source": [
        "# OpenML dataset: **_kin8nm_**",
        "## **Description**",
        "**Data Description**:\n\nA realistic simulation of the forward dynamics of an 8 link all-revolute robot arm. The task in all datasets is to predict the distance of the end-effector from a target. The input are the angular positions of the joints. The task is medium noisy and nonlinear.\n\nEach instance represents a configuration of angular positions of the joints and the resulting distance of the end-effector from a target.\n**Attribute Description**:\n\n1. *theta[1-8]* - angular positions of the joints\n2. *y* - resulting distance of end-effector from target, target feature"
      ]
    },
    {
      "cell_type": "code",
      "execution_count": null,
      "metadata": {},
      "outputs": [],
      "source": [
        "import openml\n\n",
        "dataset = openml.datasets.get_dataset(44980)\n",
        "X, y, _, _ = dataset.get_data(target=dataset.default_target_attribute, dataset_format='dataframe')"
      ]
    },
    {
      "cell_type": "code",
      "execution_count": null,
      "metadata": {},
      "outputs": [],
      "source": [
        "X.head()"
      ]
    },
    {
      "cell_type": "code",
      "execution_count": null,
      "metadata": {},
      "outputs": [],
      "source": [
        "y.head()"
      ]
    }
  ],
  "metadata": {
    "kernelspec": {
      "display_name": "Python 3",
      "language": "python",
      "name": "python3"
    },
    "language_info": {
      "codemirror_mode": {
        "name": "ipython",
        "version": 3
      },
      "file_extension": ".py",
      "mimetype": "text/x-python",
      "name": "python",
      "nbconvert_exporter": "python",
      "pygments_lexer": "ipython3",
      "version": "3.8.5"
    }
  },
  "nbformat": 4,
  "nbformat_minor": 4
}