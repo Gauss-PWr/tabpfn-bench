{
  "cells": [
    {
      "cell_type": "markdown",
      "metadata": {},
      "source": [
        "# OpenML dataset: **_wine-quality-white_**",
        "## **Description**",
        "Citation Request:\nThis dataset is public available for research. The details are described in [Cortez et al., 2009].\nPlease include this citation if you plan to use this database:\n\nP. Cortez, A. Cerdeira, F. Almeida, T. Matos and J. Reis.\nModeling wine preferences by data mining from physicochemical properties.\nIn Decision Support Systems, Elsevier, 47(4):547-553. ISSN: 0167-9236.\n\nAvailable at: [@Elsevier] http://dx.doi.org/10.1016/j.dss.2009.05.016\n[Pre-press (pdf)] http://www3.dsi.uminho.pt/pcortez/winequality09.pdf\n[bib] http://www3.dsi.uminho.pt/pcortez/dss09.bib\n\n1. Title: Wine Quality\n\n2. Sources\nCreated by: Paulo Cortez (Univ. Minho), Antonio Cerdeira, Fernando Almeida, Telmo Matos and Jose Reis (CVRVV) @ 2009\n\n3. Past Usage:\n\nP. Cortez, A. Cerdeira, F. Almeida, T. Matos and J. Reis.\nModeling wine preferences by data mining from physicochemical properties.\nIn Decision Support Systems, Elsevier, 47(4):547-553. ISSN: 0167-9236.\n\nIn the above reference, two datasets were created, using red and white wine samples.\nThe inputs include objective tests (e.g. PH values) and the output is based on sensory data\n(median of at least 3 evaluations made by wine experts). Each expert graded the wine quality\nbetween 0 (very bad) and 10 (very excellent). Several data mining methods were applied to model\nthese datasets under a regression approach. The support vector machine model achieved the\nbest results. Several metrics were computed: MAD, confusion matrix for a fixed error tolerance (T),\netc. Also, we plot the relative importances of the input variables (as measured by a sensitivity\nanalysis procedure).\n\n4. Relevant Information:\n\nThe two datasets are related to red and white variants of the Portuguese &quot;Vinho Verde&quot; wine.\nFor more details, consult: http://www.vinhoverde.pt/en/ or the reference [Cortez et al., 2009].\nDue to privacy and logistic issues, only physicochemical (inputs) and sensory (the output) variables\nare available (e.g. there is no data about grape types, wine brand, wine selling price, etc.).\n\nThese datasets can be viewed as classification or regression tasks.\nThe classes are ordered and not balanced (e.g. there are munch more normal wines than\nexcellent or poor ones). Outlier detection algorithms could be used to detect the few excellent\nor poor wines. Also, we are not sure if all input variables are relevant. So\nit could be interesting to test feature selection methods.\n\n5. Number of Instances: red wine - 1599; white wine - 4898.\n\n6. Number of Attributes: 11 + output attribute\n\nNote: several of the attributes may be correlated, thus it makes sense to apply some sort of\nfeature selection.\n\n7. Attribute information:\n\nFor more information, read [Cortez et al., 2009].\n\nInput variables (based on physicochemical tests):\n1 - fixed acidity\n2 - volatile acidity\n3 - citric acid\n4 - residual sugar\n5 - chlorides\n6 - free sulfur dioxide\n7 - total sulfur dioxide\n8 - density\n9 - pH\n10 - sulphates\n11 - alcohol\nOutput variable (based on sensory data):\n12 - quality (score between 0 and 10)\n\n8. Missing Attribute Values: None"
      ]
    },
    {
      "cell_type": "code",
      "execution_count": null,
      "metadata": {},
      "outputs": [],
      "source": [
        "import openml\n\n",
        "dataset = openml.datasets.get_dataset(40498)\n",
        "X, y, _, _ = dataset.get_data(target=dataset.default_target_attribute, dataset_format='dataframe')"
      ]
    },
    {
      "cell_type": "code",
      "execution_count": null,
      "metadata": {},
      "outputs": [],
      "source": [
        "X.head()"
      ]
    },
    {
      "cell_type": "code",
      "execution_count": null,
      "metadata": {},
      "outputs": [],
      "source": [
        "y.head()"
      ]
    }
  ],
  "metadata": {
    "kernelspec": {
      "display_name": "Python 3",
      "language": "python",
      "name": "python3"
    },
    "language_info": {
      "codemirror_mode": {
        "name": "ipython",
        "version": 3
      },
      "file_extension": ".py",
      "mimetype": "text/x-python",
      "name": "python",
      "nbconvert_exporter": "python",
      "pygments_lexer": "ipython3",
      "version": "3.8.5"
    }
  },
  "nbformat": 4,
  "nbformat_minor": 4
}