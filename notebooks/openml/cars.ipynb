{
  "cells": [
    {
      "cell_type": "markdown",
      "metadata": {},
      "source": [
        "# OpenML dataset: **_cars_**",
        "## **Description**",
        "**Data Description**:\n\nData frame of the suggested retail prices (column *Price*) and various characteristics of each car.\n\nFor this data set, a representative sample of over eight hundred 2005 GM cars were selected, then retail prices were calculated from the tables provided in the 2005 Central Edition of the Kelly Blue Book.\n**Attribute Description**:\n\nAll features describe different self-explanatory characteristics for the cars.\n\n1. *Price* - target feature\n2. *Mileage*\n3. *Cylinder*\n4. *Doors*\n5. *Cruise*\n6. *Sound*\n7. *Leather*\n8. *Buick*\n9. *Cadillac*\n10. *Chevy*\n11. *Pontiac*\n12. *Saab*\n13. *Saturn*\n14. *convertible*\n15. *coupe*\n16. *hatchback*\n17. *sedan*\n18. *wagon*"
      ]
    },
    {
      "cell_type": "code",
      "execution_count": null,
      "metadata": {},
      "outputs": [],
      "source": [
        "import openml\n\n",
        "dataset = openml.datasets.get_dataset(44994)\n",
        "X, y, cat_atr_mask, names = dataset.get_data(target=dataset.default_target_attribute, dataset_format='dataframe')"
      ]
    },
    {
      "cell_type": "code",
      "execution_count": null,
      "metadata": {},
      "outputs": [],
      "source": [
        "X.head()"
      ]
    },
    {
      "cell_type": "code",
      "execution_count": null,
      "metadata": {},
      "outputs": [],
      "source": [
        "y.head()"
      ]
    }
  ],
  "metadata": {
    "kernelspec": {
      "display_name": "Python 3",
      "language": "python",
      "name": "python3"
    },
    "language_info": {
      "codemirror_mode": {
        "name": "ipython",
        "version": 3
      },
      "file_extension": ".py",
      "mimetype": "text/x-python",
      "name": "python",
      "nbconvert_exporter": "python",
      "pygments_lexer": "ipython3",
      "version": "3.8.5"
    }
  },
  "nbformat": 4,
  "nbformat_minor": 4
}