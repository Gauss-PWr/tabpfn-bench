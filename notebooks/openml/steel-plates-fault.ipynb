{
  "cells": [
    {
      "cell_type": "markdown",
      "metadata": {},
      "source": [
        "# OpenML dataset: **_steel-plates-fault_**",
        "## **Description**",
        "**Author**: Semeion, Research Center of Sciences of Communication, Rome, Italy.\n**Source**: [UCI](http://archive.ics.uci.edu/ml/datasets/steel+plates+faults)\n**Please cite**: Dataset provided by Semeion, Research Center of Sciences of Communication, Via Sersale 117, 00128, Rome, Italy.\n\n__Changes w.r.t. version 1: included one target factor with 7 levels as target variable for the classification. Also deleted the previous 7 binary target variables.__\n**Steel Plates Faults Data Set**:\n\nA dataset of steel plates' faults, classified into 7 different types. The goal was to train machine learning for automatic pattern recognition.\n\nThe dataset consists of 27 features describing each fault (location, size, ...) and 1 feature indicating the type of fault (on of 7: Pastry, Z_Scratch, K_Scatch, Stains, Dirtiness, Bumps, Other_Faults). The target is the type of fault.\n\n### Attribute Information\n\n* V1: X_Minimum\n\n* V2: X_Maximum\n\n* V3: Y_Minimum\n\n* V4: Y_Maximum\n\n* V5: Pixels_Areas\n\n* V6: X_Perimeter\n\n* V7: Y_Perimeter\n\n* V8: Sum_of_Luminosity\n\n* V9: Minimum_of_Luminosity\n\n* V10: Maximum_of_Luminosity\n\n* V11: Length_of_Conveyer\n\n* V12: TypeOfSteel_A300\n\n* V13: TypeOfSteel_A400\n\n* V14: Steel_Plate_Thickness\n\n* V15: Edges_Index\n\n* V16: Empty_Index\n\n* V17: Square_Index\n\n* V18: Outside_X_Index\n\n* V19: Edges_X_Index\n\n* V20: Edges_Y_Index\n\n* V21: Outside_Global_Index\n\n* V22: LogOfAreas\n\n* V23: Log_X_Index\n\n* V24: Log_Y_Index\n\n* V25: Orientation_Index\n\n* V26: Luminosity_Index\n\n* V27: SigmoidOfAreas\n\n* target: 7 types of fault as classification target\n\n### Relevant Papers\n\n1.M Buscema, S Terzi, W Tastle, A New Meta-Classifier,in NAFIPS 2010, Toronto (CANADA),26-28 July 2010, 978-1-4244-7858-6/10 Â©2010 IEEE\n\n2.M Buscema, MetaNet: The Theory of Independent Judges, in Substance Use & Misuse, 33(2), 439-461,1998"
      ]
    },
    {
      "cell_type": "code",
      "execution_count": null,
      "metadata": {},
      "outputs": [],
      "source": [
        "import openml\n\n",
        "dataset = openml.datasets.get_dataset(40982)\n",
        "X, y, cat_atr_mask, names = dataset.get_data(target=dataset.default_target_attribute, dataset_format='dataframe')"
      ]
    },
    {
      "cell_type": "code",
      "execution_count": null,
      "metadata": {},
      "outputs": [],
      "source": [
        "X.head()"
      ]
    },
    {
      "cell_type": "code",
      "execution_count": null,
      "metadata": {},
      "outputs": [],
      "source": [
        "y.head()"
      ]
    }
  ],
  "metadata": {
    "kernelspec": {
      "display_name": "Python 3",
      "language": "python",
      "name": "python3"
    },
    "language_info": {
      "codemirror_mode": {
        "name": "ipython",
        "version": 3
      },
      "file_extension": ".py",
      "mimetype": "text/x-python",
      "name": "python",
      "nbconvert_exporter": "python",
      "pygments_lexer": "ipython3",
      "version": "3.8.5"
    }
  },
  "nbformat": 4,
  "nbformat_minor": 4
}