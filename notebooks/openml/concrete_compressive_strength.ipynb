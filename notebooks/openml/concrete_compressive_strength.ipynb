{
 "cells": [
  {
   "cell_type": "markdown",
   "metadata": {},
   "source": [
    "# OpenML dataset: **_concrete_compressive_strength_**",
    "## **Description**",
    "**Data Description**:\n\nConcrete is the most important material in civil engineering. The concrete compressive strength is a highly nonlinear function of age and ingredients. Each instance represents a description, different features of concrete instance, including its compressive strength. The latter can be predicted using the other features about the concrete.\n**Attribute Description**:\n\n1. *cement* - amount in kg in a m3 mixture\n2. *blast_furnace_slag* - amount in kg in a m3 mixture\n3. *fly_ash* - amount in kg in a m3 mixture\n4. *water* - amount in kg in a m3 mixture\n5. *superplasticizer* - amount in kg in a m3 mixture\n6. *coarse_aggregate* - amount in kg in a m3 mixture\n7. *fine_aggregate* - amount in kg in a m3 mixture\n8. *age* - age in days (1 - 365)\n9. *strength* - in MPa, target feature"
   ]
  },
  {
   "cell_type": "code",
   "execution_count": null,
   "metadata": {},
   "outputs": [],
   "source": [
    "import openml\n",
    "\n",
    "dataset = openml.datasets.get_dataset(44959)\n",
    "X, y, cat_atr_mask, names = dataset.get_data(\n",
    "    target=dataset.default_target_attribute, dataset_format=\"dataframe\"\n",
    ")"
   ]
  },
  {
   "cell_type": "code",
   "execution_count": null,
   "metadata": {},
   "outputs": [],
   "source": [
    "X.head()"
   ]
  },
  {
   "cell_type": "code",
   "execution_count": null,
   "metadata": {},
   "outputs": [],
   "source": [
    "y.head()"
   ]
  }
 ],
 "metadata": {
  "kernelspec": {
   "display_name": "Python 3",
   "language": "python",
   "name": "python3"
  },
  "language_info": {
   "codemirror_mode": {
    "name": "ipython",
    "version": 3
   },
   "file_extension": ".py",
   "mimetype": "text/x-python",
   "name": "python",
   "nbconvert_exporter": "python",
   "pygments_lexer": "ipython3",
   "version": "3.8.5"
  }
 },
 "nbformat": 4,
 "nbformat_minor": 4
}