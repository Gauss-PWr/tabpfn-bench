{
 "cells": [
  {
   "cell_type": "markdown",
   "metadata": {},
   "source": [
    "# OpenML dataset: **_pumadyn32nh_**",
    "## **Description**",
    "**Data Description**:\n\nA realistic simulation of the dynamics of a Puma 560 robot arm. The task in this dataset is to predict the angular acceleration of one of the robot arm's links. The task is nonlinear and has high noise.\n\nThe similator got as input the angular positions, velocities and torques and other dynamic parameters of the Puma arm.\n\nThe goal was to predict the acceleration of link 6 *thetad6*.\n**Attribute Description**:\n\n1. *theta[1-6]* - angular positions of links 1 to 6\n2. *thetad[1-6]* - angular velocities of links 1 to 6\n3. *tau[1-5]* - torques at joints 1 to 5\n4. *dm[1-5]* - change in mass of links 1 to 5\n5. *da[1-5]* - change in length of links 1 to 5\n6. *db[1-5]* - change in viscous friction of links 1 - 5\n7. *thetadd6* - acceleration of link 6, target feature"
   ]
  },
  {
   "cell_type": "code",
   "execution_count": null,
   "metadata": {},
   "outputs": [],
   "source": [
    "import openml\n",
    "\n",
    "dataset = openml.datasets.get_dataset(44981)\n",
    "X, y, cat_atr_mask, names = dataset.get_data(\n",
    "    target=dataset.default_target_attribute, dataset_format=\"dataframe\"\n",
    ")"
   ]
  },
  {
   "cell_type": "code",
   "execution_count": null,
   "metadata": {},
   "outputs": [],
   "source": [
    "X.head()"
   ]
  },
  {
   "cell_type": "code",
   "execution_count": null,
   "metadata": {},
   "outputs": [],
   "source": [
    "y.head()"
   ]
  }
 ],
 "metadata": {
  "kernelspec": {
   "display_name": "Python 3",
   "language": "python",
   "name": "python3"
  },
  "language_info": {
   "codemirror_mode": {
    "name": "ipython",
    "version": 3
   },
   "file_extension": ".py",
   "mimetype": "text/x-python",
   "name": "python",
   "nbconvert_exporter": "python",
   "pygments_lexer": "ipython3",
   "version": "3.8.5"
  }
 },
 "nbformat": 4,
 "nbformat_minor": 4
}