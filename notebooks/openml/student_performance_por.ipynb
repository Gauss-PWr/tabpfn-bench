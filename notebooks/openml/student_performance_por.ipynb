{
 "cells": [
  {
   "cell_type": "markdown",
   "metadata": {},
   "source": [
    "# OpenML dataset: **_student_performance_por_**",
    "## **Description**",
    "**Data Description**:\n\nThis data approach student achievement in secondary education of two Portuguese schools.\nThe data attributes include student grades, demographic, social and school related features) and it was collected by using school reports and questionnaires.\n\nThere are two datasets in the original database, regarding the performance in two distinct subjects: Mathematics and Portuguese language.\nThis version of the original dataset contains only the latter.\n\nNote: the target attribute G3 has a strong correlation with attributes G2 and G1. This occurs because G3 is the final year grade (issued at the 3rd period), while G1 and G2 correspond to the 1st and 2nd period grades. It is more difficult to predict G3 without G2 and G1, but such prediction is much more useful.\n**Attribute Description**:\n\n1. *school* - student's school (binary: 'GP' - Gabriel Pereira or 'MS' - Mousinho da Silveira)\n2. *sex* - student's sex (binary: 'F' - female or 'M' - male)\n3. *age* - student's age (numeric: from 15 to 22)\n4. *address* - student's home address type (binary: 'U' - urban or 'R' - rural)\n5. *famsize* - family size (binary: 'LE3' - less or equal to 3 or 'GT3' - greater than 3)\n6. *Pstatus* - parent's cohabitation status (binary: 'T' - living together or 'A' - apart)\n7. *Medu* - mother's education (numeric: 0 - none, 1 - primary education (4th grade), 2 - 5th to 9th grade, 3 - secondary education or 4 - higher education)\n8. *Fedu* - father's education (numeric: 0 - none, 1 - primary education (4th grade), 2 - 5th to 9th grade, 3 - secondary education or 4 - higher education)\n9. *Mjob* - mother's job (nominal: 'teacher', 'health' care related, civil 'services' (e.g. administrative or police), 'at_home' or 'other')\n10. *Fjob* - father's job (nominal: 'teacher', 'health' care related, civil 'services' (e.g. administrative or police), 'at_home' or 'other')\n11. *reason* - reason to choose this school (nominal: close to 'home', school 'reputation', 'course' preference or 'other')\n12. *guardian* - student's guardian (nominal: 'mother', 'father' or 'other')\n13. *traveltime* - home to school travel time (numeric: 1 - <15 min., 2 - 15 to 30 min., 3 - 30 min. to 1 hour, or 4 - >1 hour)\n14. *studytime* - weekly study time (numeric: 1 - <2 hours, 2 - 2 to 5 hours, 3 - 5 to 10 hours, or 4 - >10 hours)\n15. *failures* - number of past class failures (numeric: n if 1<=n<3, else 4)\n16. *schoolsup* - extra educational support (binary: yes or no)\n17. *famsup* - family educational support (binary: yes or no)\n18. *paid* - extra paid classes within the course subject (binary: yes or no)\n19. *activities* - extra-curricular activities (binary: yes or no)\n20. *nursery* - attended nursery school (binary: yes or no)\n21. *higher* - wants to take higher education (binary: yes or no)\n22. *internet* - Internet access at home (binary: yes or no)\n23. *romantic* - with a romantic relationship (binary: yes or no)\n24. *famrel* - quality of family relationships (numeric: from 1 - very bad to 5 - excellent)\n25. *freetime* - free time after school (numeric: from 1 - very low to 5 - very high)\n26. *goout* - going out with friends (numeric: from 1 - very low to 5 - very high)\n27. *Dalc* - workday alcohol consumption (numeric: from 1 - very low to 5 - very high)\n28. *Walc* - workday alcohol consumption (numeric: from 1 - very low to 5 - very high)\n29. *health* - current health status (numeric: from 1 - very bad to 5 - very good)\n30. *absences* - number of school absences (numeric)\n31. *G1* - first period grade (numeric: from 0 to 20)\n32. *G2* - second period grade (numeric: from 0 to 20)\n33. *G3* - final grade (numeric: from 0 to 20, target feature)"
   ]
  },
  {
   "cell_type": "code",
   "execution_count": null,
   "metadata": {},
   "outputs": [],
   "source": [
    "import openml\n",
    "\n",
    "dataset = openml.datasets.get_dataset(44967)\n",
    "X, y, cat_atr_mask, names = dataset.get_data(\n",
    "    target=dataset.default_target_attribute, dataset_format=\"dataframe\"\n",
    ")"
   ]
  },
  {
   "cell_type": "code",
   "execution_count": null,
   "metadata": {},
   "outputs": [],
   "source": [
    "X.head()"
   ]
  },
  {
   "cell_type": "code",
   "execution_count": null,
   "metadata": {},
   "outputs": [],
   "source": [
    "y.head()"
   ]
  }
 ],
 "metadata": {
  "kernelspec": {
   "display_name": "Python 3",
   "language": "python",
   "name": "python3"
  },
  "language_info": {
   "codemirror_mode": {
    "name": "ipython",
    "version": 3
   },
   "file_extension": ".py",
   "mimetype": "text/x-python",
   "name": "python",
   "nbconvert_exporter": "python",
   "pygments_lexer": "ipython3",
   "version": "3.8.5"
  }
 },
 "nbformat": 4,
 "nbformat_minor": 4
}