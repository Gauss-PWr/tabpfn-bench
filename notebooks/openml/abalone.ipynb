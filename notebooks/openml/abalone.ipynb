{
  "cells": [
    {
      "cell_type": "markdown",
      "metadata": {},
      "source": [
        "# OpenML dataset: **_abalone_**",
        "## **Description**",
        "Make target (age) numeric**Author**:\n**Source**: Unknown -\n**Please cite**:\n\n1. Title of Database: Abalone data\n\n2. Sources:\n\n(a) Original owners of database:\nMarine Resources Division\nMarine Research Laboratories - Taroona\nDepartment of Primary Industry and Fisheries, Tasmania\nGPO Box 619F, Hobart, Tasmania 7001, Australia\n(contact: Warwick Nash +61 02 277277, wnash@dpi.tas.gov.au)\n\n(b) Donor of database:\nSam Waugh (Sam.Waugh@cs.utas.edu.au)\nDepartment of Computer Science, University of Tasmania\nGPO Box 252C, Hobart, Tasmania 7001, Australia\n\n(c) Date received: December 1995\n\n3. Past Usage:\n\nSam Waugh (1995) \"Extending and benchmarking Cascade-Correlation\", PhD\nthesis, Computer Science Department, University of Tasmania.\n\n-- Test set performance (final 1044 examples, first 3133 used for training):\n24.86% Cascade-Correlation (no hidden nodes)\n26.25% Cascade-Correlation (5 hidden nodes)\n21.5%  C4.5\n0.0%  Linear Discriminate Analysis\n3.57% k=5 Nearest Neighbour\n(Problem encoded as a classification task)\n\n-- Data set samples are highly overlapped.  Further information is required\nto separate completely using affine combinations.  Other restrictions\nto data set examined.\n\nDavid Clark, Zoltan Schreter, Anthony Adams \"A Quantitative Comparison of\nDystal and Backpropagation\", submitted to the Australian Conference on\nNeural Networks (ACNN'96). Data set treated as a 3-category classification\nproblem (grouping ring classes 1-8, 9 and 10, and 11 on).\n\n-- Test set performance (3133 training, 1044 testing as above):\n64%    Backprop\n55%    Dystal\n-- Previous work (Waugh, 1995) on same data set:\n61.40% Cascade-Correlation (no hidden nodes)\n65.61% Cascade-Correlation (5 hidden nodes)\n59.2%  C4.5\n32.57% Linear Discriminate Analysis\n62.46% k=5 Nearest Neighbour\n\n4. Relevant Information Paragraph:\n\nPredicting the age of abalone from physical measurements.  The age of\nabalone is determined by cutting the shell through the cone, staining it,\nand counting the number of rings through a microscope -- a boring and\ntime-consuming task.  Other measurements, which are easier to obtain, are\nused to predict the age.  Further information, such as weather patterns\nand location (hence food availability) may be required to solve the problem.\n\nFrom the original data examples with missing values were removed (the\nmajority having the predicted value missing), and the ranges of the\ncontinuous values have been scaled for use with an ANN (by dividing by 200).\n\nData comes from an original (non-machine-learning) study:\n\nWarwick J Nash, Tracy L Sellers, Simon R Talbot, Andrew J Cawthorn and\nWes B Ford (1994) \"The Population Biology of Abalone (_Haliotis_\nspecies) in Tasmania. I. Blacklip Abalone (_H. rubra_) from the North\nCoast and Islands of Bass Strait\", Sea Fisheries Division, Technical\nReport No. 48 (ISSN 1034-3288)\n\n5. Number of Instances: 4177\n\n6. Number of Attributes: 8\n\n7. Attribute information:\n\nGiven is the attribute name, attribute type, the measurement unit and a\nbrief description.  The number of rings is the value to predict: either\nas a continuous value or as a classification problem.\n\nName\t\tData Type\tMeas.\tDescription\n----\t\t---------\t-----\t-----------\nSex\t\tnominal\t\t\tM, F, and I (infant)\nLength\t\tcontinuous\tmm\tLongest shell measurement\nDiameter\tcontinuous\tmm\tperpendicular to length\nHeight\t\tcontinuous\tmm\twith meat in shell\nWhole weight\tcontinuous\tgrams\twhole abalone\nShucked weight\tcontinuous\tgrams\tweight of meat\nViscera weight\tcontinuous\tgrams\tgut weight (after bleeding)\nShell weight\tcontinuous\tgrams\tafter being dried\nRings\t\tinteger\t\t\t+1.5 gives the age in years\n\nStatistics for numeric domains:\n\nLength\tDiam\tHeight\tWhole\tShucked\tViscera\tShell\tRings\nMin\t0.075\t0.055\t0.000\t0.002\t0.001\t0.001\t0.002\t    1\nMax\t0.815\t0.650\t1.130\t2.826\t1.488\t0.760\t1.005\t   29\nMean\t0.524\t0.408\t0.140\t0.829\t0.359\t0.181\t0.239\t9.934\nSD\t0.120\t0.099\t0.042\t0.490\t0.222\t0.110\t0.139\t3.224\nCorrel\t0.557\t0.575\t0.557\t0.540\t0.421\t0.504\t0.628\t  1.0\n\n8. Missing Attribute Values: None\n\n9. Class Distribution:\n\nClass\tExamples\n-----\t--------\n1\t1\n2\t1\n3\t15\n4\t57\n5\t115\n6\t259\n7\t391\n8\t568\n9\t689\n10\t634\n11\t487\n12\t267\n13\t203\n14\t126\n15\t103\n16\t67\n17\t58\n18\t42\n19\t32\n20\t26\n21\t14\n22\t6\n23\t9\n24\t2\n25\t1\n26\t1\n27\t2\n29\t1\n-----\t----\nTotal\t4177\n\nNum Instances:     4177\nNum Attributes:    9\nNum Continuous:    8 (Int 1 / Real 7)\nNum Discrete:      1\nMissing values:    0 /  0.0%\n\nname                      type enum ints real     missing    distinct  (1)\n1 'Sex'                     Enum 100%   0%   0%     0 /  0%     3 /  0%   0%\n2 'Length'                  Real   0%   0% 100%     0 /  0%   134 /  3%   0%\n3 'Diameter'                Real   0%   0% 100%     0 /  0%   111 /  3%   0%\n4 'Height'                  Real   0%   0% 100%     0 /  0%    51 /  1%   0%\n5 'Whole weight'            Real   0%   0% 100%     0 /  0%  2429 / 58%  31%\n6 'Shucked weight'          Real   0%   0% 100%     0 /  0%  1515 / 36%  10%\n7 'Viscera weight'          Real   0%   0% 100%     0 /  0%   880 / 21%   3%\n8 'Shell weight'            Real   0%   0% 100%     0 /  0%   926 / 22%   8%\n9 'Class_Rings'             Int    0% 100%   0%     0 /  0%    28 /  1%   0%"
      ]
    },
    {
      "cell_type": "code",
      "execution_count": null,
      "metadata": {},
      "outputs": [],
      "source": [
        "import openml\n\n",
        "dataset = openml.datasets.get_dataset(42726)\n",
        "X, y, _, _ = dataset.get_data(target=dataset.default_target_attribute, dataset_format='dataframe')"
      ]
    },
    {
      "cell_type": "code",
      "execution_count": null,
      "metadata": {},
      "outputs": [],
      "source": [
        "X.head()"
      ]
    },
    {
      "cell_type": "code",
      "execution_count": null,
      "metadata": {},
      "outputs": [],
      "source": [
        "y.head()"
      ]
    }
  ],
  "metadata": {
    "kernelspec": {
      "display_name": "Python 3",
      "language": "python",
      "name": "python3"
    },
    "language_info": {
      "codemirror_mode": {
        "name": "ipython",
        "version": 3
      },
      "file_extension": ".py",
      "mimetype": "text/x-python",
      "name": "python",
      "nbconvert_exporter": "python",
      "pygments_lexer": "ipython3",
      "version": "3.8.5"
    }
  },
  "nbformat": 4,
  "nbformat_minor": 4
}