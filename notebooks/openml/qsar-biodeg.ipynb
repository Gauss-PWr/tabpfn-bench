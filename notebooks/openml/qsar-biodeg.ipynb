{
 "cells": [
  {
   "cell_type": "markdown",
   "metadata": {},
   "source": [
    "# OpenML dataset: **_qsar-biodeg_**",
    "## **Description**",
    "**Author**: Kamel Mansouri, Tine Ringsted, Davide Ballabio\n**Source**: [UCI](https://archive.ics.uci.edu/ml/datasets/QSAR+biodegradation)\n**Please cite**: Mansouri, K., Ringsted, T., Ballabio, D., Todeschini, R., Consonni, V. (2013). Quantitative Structure - Activity Relationship models for ready biodegradability of chemicals. Journal of Chemical Information and Modeling, 53, 867-878\n\nQSAR biodegradation Data Set\n\n* Abstract:\n\nData set containing values for 41 attributes (molecular descriptors) used to classify 1055 chemicals into 2 classes (ready and not ready biodegradable).\n\n* Source:\n\nKamel Mansouri, Tine Ringsted, Davide Ballabio (davide.ballabio '@' unimib.it), Roberto Todeschini, Viviana Consonni, Milano Chemometrics and QSAR Research Group (http://michem.disat.unimib.it/chm/), UniversitÃ  degli Studi Milano â€“ Bicocca, Milano (Italy)\n\n* Data Set Information:\n\nThe QSAR biodegradation dataset was built in the Milano Chemometrics and QSAR Research Group (UniversitÃ  degli Studi Milano â€“ Bicocca, Milano, Italy). The research leading to these results has received funding from the European Communityâ€™s Seventh Framework Programme [FP7/2007-2013] under Grant Agreement n. 238701 of Marie Curie ITN Environmental Chemoinformatics (ECO) project.\n\nThe data have been used to develop QSAR (Quantitative Structure Activity Relationships) models for the study of the relationships between chemical structure and biodegradation of molecules. Biodegradation experimental values of 1055 chemicals were collected from the webpage of the National Institute of Technology and Evaluation of Japan (NITE). Classification models were developed in order to discriminate ready (356) and not ready (699) biodegradable molecules by means of three different modelling methods: k Nearest Neighbours, Partial Least Squares Discriminant Analysis and Support Vector Machines. Details on attributes (molecular descriptors) selected in each model can be found in the quoted reference: Mansouri, K., Ringsted, T., Ballabio, D., Todeschini, R., Consonni, V. (2013). Quantitative Structure - Activity Relationship models for ready biodegradability of chemicals. Journal of Chemical Information and Modeling, 53, 867-878.\n\n* Attribute Information:\n\n41 molecular descriptors and 1 experimental class:\n\n1) SpMax_L: Leading eigenvalue from Laplace matrix\n\n2) J_Dz(e): Balaban-like index from Barysz matrix weighted by Sanderson electronegativity\n\n3) nHM: Number of heavy atoms\n\n4) F01[N-N]: Frequency of N-N at topological distance 1\n\n5) F04[C-N]: Frequency of C-N at topological distance 4\n\n6) NssssC: Number of atoms of type ssssC\n\n7) nCb-: Number of substituted benzene C(sp2)\n\n8) C%: Percentage of C atoms\n\n9) nCp: Number of terminal primary C(sp3)\n\n10) nO: Number of oxygen atoms\n\n11) F03[C-N]: Frequency of C-N at topological distance 3\n\n12) SdssC: Sum of dssC E-states\n\n13) HyWi_B(m): Hyper-Wiener-like index (log function) from Burden matrix weighted by mass\n\n14) LOC: Lopping centric index\n\n15) SM6_L: Spectral moment of order 6 from Laplace matrix\n\n16) F03[C-O]: Frequency of C - O at topological distance 3\n\n17) Me: Mean atomic Sanderson electronegativity (scaled on Carbon atom)\n\n18) Mi: Mean first ionization potential (scaled on Carbon atom)\n\n19) nN-N: Number of N hydrazines\n\n20) nArNO2: Number of nitro groups (aromatic)\n\n21) nCRX3: Number of CRX3\n\n22) SpPosA_B(p): Normalized spectral positive sum from Burden matrix weighted by polarizability\n\n23) nCIR: Number of circuits\n\n24) B01[C-Br]: Presence/absence of C - Br at topological distance 1\n\n25) B03[C-Cl]: Presence/absence of C - Cl at topological distance 3\n\n26) N-073: Ar2NH / Ar3N / Ar2N-Al / R..N..R\n\n27) SpMax_A: Leading eigenvalue from adjacency matrix (Lovasz-Pelikan index)\n\n28) Psi_i_1d: Intrinsic state pseudoconnectivity index - type 1d\n\n29) B04[C-Br]: Presence/absence of C - Br at topological distance 4\n\n30) SdO: Sum of dO E-states\n\n31) TI2_L: Second Mohar index from Laplace matrix\n\n32) nCrt: Number of ring tertiary C(sp3)\n\n33) C-026: R--CX--R\n\n34) F02[C-N]: Frequency of C - N at topological distance 2\n\n35) nHDon: Number of donor atoms for H-bonds (N and O)\n\n36) SpMax_B(m): Leading eigenvalue from Burden matrix weighted by mass\n\n37) Psi_i_A: Intrinsic state pseudoconnectivity index - type S average\n\n38) nN: Number of Nitrogen atoms\n\n39) SM6_B(m): Spectral moment of order 6 from Burden matrix weighted by mass\n\n40) nArCOOR: Number of esters (aromatic)\n\n41) nX: Number of halogen atoms\n\n42) experimental class: ready biodegradable (RB) and not ready biodegradable (NRB)\n\n* Relevant Papers:\n\nMansouri, K., Ringsted, T., Ballabio, D., Todeschini, R., Consonni, V. (2013). Quantitative Structure - Activity Relationship models for ready biodegradability of chemicals. Journal of Chemical Information and Modeling, 53, 867-878"
   ]
  },
  {
   "cell_type": "code",
   "execution_count": null,
   "metadata": {},
   "outputs": [],
   "source": [
    "import openml\n",
    "\n",
    "dataset = openml.datasets.get_dataset(1494)\n",
    "X, y, cat_atr_mask, names = dataset.get_data(\n",
    "    target=dataset.default_target_attribute, dataset_format=\"dataframe\"\n",
    ")"
   ]
  },
  {
   "cell_type": "code",
   "execution_count": null,
   "metadata": {},
   "outputs": [],
   "source": [
    "X.head()"
   ]
  },
  {
   "cell_type": "code",
   "execution_count": null,
   "metadata": {},
   "outputs": [],
   "source": [
    "y.head()"
   ]
  }
 ],
 "metadata": {
  "kernelspec": {
   "display_name": "Python 3",
   "language": "python",
   "name": "python3"
  },
  "language_info": {
   "codemirror_mode": {
    "name": "ipython",
    "version": 3
   },
   "file_extension": ".py",
   "mimetype": "text/x-python",
   "name": "python",
   "nbconvert_exporter": "python",
   "pygments_lexer": "ipython3",
   "version": "3.8.5"
  }
 },
 "nbformat": 4,
 "nbformat_minor": 4
}