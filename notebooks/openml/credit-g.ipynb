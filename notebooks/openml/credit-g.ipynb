{
 "cells": [
  {
   "cell_type": "markdown",
   "metadata": {},
   "source": [
    "# OpenML dataset: **_credit-g_**",
    "## **Description**",
    "**Author**: Dr. Hans Hofmann\n**Source**: [UCI](https://archive.ics.uci.edu/ml/datasets/statlog+(german+credit+data)) - 1994\n**Please cite**: [UCI](https://archive.ics.uci.edu/ml/citation_policy.html)\n**German Credit dataset**:\nThis dataset classifies people described by a set of attributes as good or bad credit risks.\n\nThis dataset comes with a cost matrix:\n```\n\nGood  Bad (predicted)\nGood   0    1   (actual)\nBad    5    0\n\n```\n\nIt is worse to class a customer as good when they are bad (5), than it is to class a customer as bad when they are good (1).\n\n### Attribute description\n\n1. Status of existing checking account, in Deutsche Mark.\n2. Duration in months\n3. Credit history (credits taken, paid back duly, delays, critical accounts)\n4. Purpose of the credit (car, television,...)\n5. Credit amount\n6. Status of savings account/bonds, in Deutsche Mark.\n7. Present employment, in number of years.\n8. Installment rate in percentage of disposable income\n9. Personal status (married, single,...) and sex\n10. Other debtors / guarantors\n11. Present residence since X years\n12. Property (e.g. real estate)\n13. Age in years\n14. Other installment plans (banks, stores)\n15. Housing (rent, own,...)\n16. Number of existing credits at this bank\n17. Job\n18. Number of people being liable to provide maintenance for\n19. Telephone (yes,no)\n20. Foreign worker (yes,no)"
   ]
  },
  {
   "cell_type": "code",
   "execution_count": null,
   "metadata": {},
   "outputs": [],
   "source": [
    "import openml\n",
    "\n",
    "dataset = openml.datasets.get_dataset(31)\n",
    "X, y, cat_atr_mask, names = dataset.get_data(\n",
    "    target=dataset.default_target_attribute, dataset_format=\"dataframe\"\n",
    ")"
   ]
  },
  {
   "cell_type": "code",
   "execution_count": null,
   "metadata": {},
   "outputs": [],
   "source": [
    "X.head()"
   ]
  },
  {
   "cell_type": "code",
   "execution_count": null,
   "metadata": {},
   "outputs": [],
   "source": [
    "y.head()"
   ]
  }
 ],
 "metadata": {
  "kernelspec": {
   "display_name": "Python 3",
   "language": "python",
   "name": "python3"
  },
  "language_info": {
   "codemirror_mode": {
    "name": "ipython",
    "version": 3
   },
   "file_extension": ".py",
   "mimetype": "text/x-python",
   "name": "python",
   "nbconvert_exporter": "python",
   "pygments_lexer": "ipython3",
   "version": "3.8.5"
  }
 },
 "nbformat": 4,
 "nbformat_minor": 4
}