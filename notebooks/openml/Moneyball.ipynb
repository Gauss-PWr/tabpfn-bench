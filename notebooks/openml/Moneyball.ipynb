{
 "cells": [
  {
   "cell_type": "markdown",
   "metadata": {},
   "source": [
    "# OpenML dataset: **_Moneyball_**",
    "## **Description**",
    "**Author**: MITx\n**Source**: [Kaggle](https://www.kaggle.com/wduckett/moneyball-mlb-stats-19622012/data), originally from [The Analytics Edge course on EdX](https://www.edx.org/course/analytics-edge-mitx-15-071x-3). Data collected from [baseball-reference.com](baseball-reference.com)\n**Please cite**:\n**Moneyball**:\n\nIn the early 2000s, Billy Beane and Paul DePodesta worked for the Oakland Athletics. While there, they literally changed the game of baseball. They didn't do it using a bat or glove, and they certainly didn't do it by throwing money at the issue; in fact, money was the issue. They didn't have enough of it, but they were still expected to keep up with teams that had much deeper pockets. This is where Statistics came riding down the hillside on a white horse to save the day. This data set contains some of the information that was available to Beane and DePodesta in the early 2000s, and it can be used to better understand their methods.\n\n### Attributes\n\nThis data set contains a set of variables that Beane and DePodesta focused heavily on. They determined that stats like on-base percentage (OBP) and slugging percentage (SLG) were very important when it came to scoring runs, however they were largely undervalued by most scouts at the time. This translated to a gold mine for Beane and DePodesta. Since these players weren't being looked at by other teams, they could recruit these players on a small budget. The variables are as follows:\n\nTeam\n\nLeague\n\nYear\n\nRuns Scored (RS)\n\nRuns Allowed (RA)\n\nWins (W)\n\nOn-Base Percentage (OBP)\n\nSlugging Percentage (SLG)\n\nBatting Average (BA)\n\nPlayoffs (binary)\n\nRankSeason\n\nRankPlayoffs\n\nGames Played (G)\n\nOpponent On-Base Percentage (OOBP)\n\nOpponent Slugging Percentage (OSLG)\n\n### Acknowledgements\n\nThis data set is referenced in The Analytics Edge course on EdX during the lecture regarding the story of Moneyball. The data itself is gathered from baseball-reference.com. Sports-reference.com is one of the most comprehensive sports statistics resource available, and I highly recommend checking it out.\n\nInspiration\n\nIt is such an important skill in today's world to be able to see the \"truth\" in a data set. That is what DePodesta was able to do with this data, and it unsettled the entire system of baseball recruitment. Beane and DePodesta defined their season goal as making it to playoffs. With that in mind, consider these questions:\n\nHow does a team make the playoffs?\n\nHow does a team win more games?\n\nHow does a team score more runs?\n\nThey are all simple questions with simple answers, but now it is time to use the data to find the \"truth\" hidden in the numbers."
   ]
  },
  {
   "cell_type": "code",
   "execution_count": null,
   "metadata": {},
   "outputs": [],
   "source": [
    "import openml\n",
    "\n",
    "dataset = openml.datasets.get_dataset(41021)\n",
    "X, y, cat_atr_mask, names = dataset.get_data(\n",
    "    target=dataset.default_target_attribute, dataset_format=\"dataframe\"\n",
    ")"
   ]
  },
  {
   "cell_type": "code",
   "execution_count": null,
   "metadata": {},
   "outputs": [],
   "source": [
    "X.head()"
   ]
  },
  {
   "cell_type": "code",
   "execution_count": null,
   "metadata": {},
   "outputs": [],
   "source": [
    "y.head()"
   ]
  }
 ],
 "metadata": {
  "kernelspec": {
   "display_name": "Python 3",
   "language": "python",
   "name": "python3"
  },
  "language_info": {
   "codemirror_mode": {
    "name": "ipython",
    "version": 3
   },
   "file_extension": ".py",
   "mimetype": "text/x-python",
   "name": "python",
   "nbconvert_exporter": "python",
   "pygments_lexer": "ipython3",
   "version": "3.8.5"
  }
 },
 "nbformat": 4,
 "nbformat_minor": 4
}