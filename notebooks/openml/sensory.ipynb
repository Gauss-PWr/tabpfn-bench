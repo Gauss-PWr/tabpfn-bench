{
  "cells": [
    {
      "cell_type": "markdown",
      "metadata": {},
      "source": [
        "# OpenML dataset: **_sensory_**",
        "## **Description**",
        "**Author**:\n**Source**: Unknown - Date unknown\n**Please cite**:\n\nData for the sensory evaluation experiment in Brien, C.J. and Payne,\nR.W. (1996) Tiers, structure formulae and the analysis of complicated\nexperiments.  submitted for publication.\nThe experiment involved two phases.  In the field phase a viticultural\nexperiment was conducted to investigate the differences between 4\ntypes of trellising and 2 methods of pruning.  The design was a\nsplit-plot design in which the trellis types were assigned to the main\nplots using two adjacent Youden squares of 3 rows and 4 columns.  Each\nmain plot was split into two subplots (or halfplots) and the methods\nof pruning assigned at random independently to the two halfplots in\neach main plot.  The produce of each halfplot was made into a wine so\nthat there were 24 wines altogether.\nThe second phase was an evaluation phase in which the produce from the\nhalplots was evaluated by 6 judges all of whom took part in 24\nsittings.  In the first 12 sittings the judges evaluated the wines\nmade from the halfplots of one square; the final 12 sittings were to\nevaluate the wines from the other square.  At each sitting, each judge\nassessed two glasses of wine from each of the halplots of one of the\nmain plots.  The main plots allocated to the judges at each sitting\nwere determined as follows.  For the allocation of rows, each occasion\nwas subdivided into 3 intervals of 4 consecutive sittings.  During\neach interval, each judge examined plots from one particular row,\nthese being determined using two 3x3 Latin squares for each occasion,\none for judges 1-3 and the other for judges 4-6.  At each sitting\njudges 1-3 examined wines from one particular column and judges 4-6\nexamined wines from another column.  The columns were randomized to\nthe 2 sets of judges x 3 intervals x 4 sittings using duplicates of a\nbalanced incomplete block design for v=4 and k=2 that were latinized.\nThis balanced incomplete block design consists of three sets of 2\nblocks, each set containing the 4 \"treatments\".  For each interval, a\ndifferent set of 2 blocks was taken and each block assigned to two\nsittings, but with the columns within the block placed in reverse\norder in one sitting compared to the other sitting.  Thus, in each\ninterval, a judge would evaluate a wine from each of the 4 columns.\nThe scores assigned in evaluating the wines, and the factors indexing\nthem, are given below.  The factors are as follows:\nOccasion\nJudges\nInterval\nSittings\nPosition\nSquares\nRows\nColumns\nHalfplot\nTrellis\nMethod\nfollowed by the response variable\nScore\nThe scores are ordered so that the factors Occasion, Judges, Interval,\nSittings and Position are in standard order; the remaining factors are\nin randomized order.\n\nInformation about the dataset\nCLASSTYPE: numeric\nCLASSINDEX: last"
      ]
    },
    {
      "cell_type": "code",
      "execution_count": null,
      "metadata": {},
      "outputs": [],
      "source": [
        "import openml\n\n",
        "dataset = openml.datasets.get_dataset(546)\n",
        "X, y, _, _ = dataset.get_data(target=dataset.default_target_attribute, dataset_format='dataframe')"
      ]
    },
    {
      "cell_type": "code",
      "execution_count": null,
      "metadata": {},
      "outputs": [],
      "source": [
        "X.head()"
      ]
    },
    {
      "cell_type": "code",
      "execution_count": null,
      "metadata": {},
      "outputs": [],
      "source": [
        "y.head()"
      ]
    }
  ],
  "metadata": {
    "kernelspec": {
      "display_name": "Python 3",
      "language": "python",
      "name": "python3"
    },
    "language_info": {
      "codemirror_mode": {
        "name": "ipython",
        "version": 3
      },
      "file_extension": ".py",
      "mimetype": "text/x-python",
      "name": "python",
      "nbconvert_exporter": "python",
      "pygments_lexer": "ipython3",
      "version": "3.8.5"
    }
  },
  "nbformat": 4,
  "nbformat_minor": 4
}