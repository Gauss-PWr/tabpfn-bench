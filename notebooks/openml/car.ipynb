{
 "cells": [
  {
   "cell_type": "markdown",
   "metadata": {},
   "source": [
    "# OpenML dataset: **_car_**",
    "## **Description**",
    "**Author**: Marko Bohanec, Blaz Zupan\n**Source**: [UCI](https://archive.ics.uci.edu/ml/datasets/car+evaluation) - 1997\n**Please cite**: [UCI](http://archive.ics.uci.edu/ml/citation_policy.html)\n**Car Evaluation Database**:\nThis database was derived from a simple hierarchical decision model originally developed for the demonstration of DEX (M. Bohanec, V. Rajkovic: Expert system for decision making. Sistemica 1(1), pp. 145-157, 1990.).\n\nThe model evaluates cars according to the following concept structure:\n\nCAR                      car acceptability\n. PRICE                  overall price\n. . buying               buying price\n. . maint                price of the maintenance\n. TECH                   technical characteristics\n. . COMFORT              comfort\n. . . doors              number of doors\n. . . persons            capacity in terms of persons to carry\n. . . lug_boot           the size of luggage boot\n. . safety               estimated safety of the car\n\nInput attributes are printed in lowercase. Besides the target concept (CAR), the model includes three intermediate concepts: PRICE, TECH, COMFORT. Every concept is in the original model related to its lower level descendants by a set of examples (for\nthese examples sets see http://www-ai.ijs.si/BlazZupan/car.html).\n\nThe Car Evaluation Database contains examples with the structural information removed, i.e., directly relates CAR to the six input attributes: buying, maint, doors, persons, lug_boot, safety. Because of known underlying concept structure, this database may be particularly useful for testing constructive induction and structure discovery methods.\n\n### Changes with respect to car (1)\n\nThe ordinal variables are stored as ordered factors in this version.\n\n### Relevant papers:\nM. Bohanec and V. Rajkovic: Knowledge acquisition and explanation for multi-attribute decision making. In 8th Intl Workshop on Expert Systems and their Applications, Avignon, France. pages 59-78, 1988.\n\nM. Bohanec, V. Rajkovic: Expert system for decision making. Sistemica 1(1), pp. 145-157, 1990."
   ]
  },
  {
   "cell_type": "code",
   "execution_count": null,
   "metadata": {},
   "outputs": [],
   "source": [
    "import openml\n",
    "\n",
    "dataset = openml.datasets.get_dataset(40975)\n",
    "X, y, cat_atr_mask, names = dataset.get_data(\n",
    "    target=dataset.default_target_attribute, dataset_format=\"dataframe\"\n",
    ")"
   ]
  },
  {
   "cell_type": "code",
   "execution_count": null,
   "metadata": {},
   "outputs": [],
   "source": [
    "X.head()"
   ]
  },
  {
   "cell_type": "code",
   "execution_count": null,
   "metadata": {},
   "outputs": [],
   "source": [
    "y.head()"
   ]
  }
 ],
 "metadata": {
  "kernelspec": {
   "display_name": "Python 3",
   "language": "python",
   "name": "python3"
  },
  "language_info": {
   "codemirror_mode": {
    "name": "ipython",
    "version": 3
   },
   "file_extension": ".py",
   "mimetype": "text/x-python",
   "name": "python",
   "nbconvert_exporter": "python",
   "pygments_lexer": "ipython3",
   "version": "3.8.5"
  }
 },
 "nbformat": 4,
 "nbformat_minor": 4
}