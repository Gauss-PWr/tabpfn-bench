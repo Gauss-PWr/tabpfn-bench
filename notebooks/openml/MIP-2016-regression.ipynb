{
  "cells": [
    {
      "cell_type": "markdown",
      "metadata": {},
      "source": [
        "# OpenML dataset: **_MIP-2016-regression_**",
        "## **Description**",
        "source: http://plato.asu.edu/ftp/solvable.html\nauthors: Rolf-David Bergdoll\n\nPAR10 performances of modern solvers on the solvable instances of MIPLIB2010.\nhttp://miplib.zib.de/\n\nThe algorithm runtime data was directly taken from the '12 threads' table of\nH. Mittelmann's evaluations.\n\nThe features were generated using the MIP feature computation code from\nhttp://www.cs.ubc.ca/labs/beta/Projects/EPMs/\n\nTo record runtimes of the feature computations, runsolver was used:\nhttp://www.cril.univ-artois.fr/~roussel/runsolver/\n\nPart of Open Algorithm Challenge 2017 (\"Mira\")."
      ]
    },
    {
      "cell_type": "code",
      "execution_count": null,
      "metadata": {},
      "outputs": [],
      "source": [
        "import openml\n\n",
        "dataset = openml.datasets.get_dataset(43071)\n",
        "X, y, _, _ = dataset.get_data(target=dataset.default_target_attribute, dataset_format='dataframe')"
      ]
    },
    {
      "cell_type": "code",
      "execution_count": null,
      "metadata": {},
      "outputs": [],
      "source": [
        "X.head()"
      ]
    },
    {
      "cell_type": "code",
      "execution_count": null,
      "metadata": {},
      "outputs": [],
      "source": [
        "y.head()"
      ]
    }
  ],
  "metadata": {
    "kernelspec": {
      "display_name": "Python 3",
      "language": "python",
      "name": "python3"
    },
    "language_info": {
      "codemirror_mode": {
        "name": "ipython",
        "version": 3
      },
      "file_extension": ".py",
      "mimetype": "text/x-python",
      "name": "python",
      "nbconvert_exporter": "python",
      "pygments_lexer": "ipython3",
      "version": "3.8.5"
    }
  },
  "nbformat": 4,
  "nbformat_minor": 4
}